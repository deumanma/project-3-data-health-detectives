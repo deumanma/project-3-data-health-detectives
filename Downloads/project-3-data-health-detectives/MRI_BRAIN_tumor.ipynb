{
  "cells": [
    {
      "cell_type": "code",
      "execution_count": null,
      "id": "21302815",
      "metadata": {
        "id": "21302815"
      },
      "outputs": [],
      "source": [
        "import pandas as pd\n",
        "import numpy as np\n",
        "import matplotlib.pyplot as plt\n",
        "import os, shutil\n",
        "import cv2\n",
        "import matplotlib.image as mpimg\n",
        "import seaborn as sns\n",
        "%matplotlib inline\n",
        "plt.style.use('ggplot')"
      ]
    },
    {
      "cell_type": "code",
      "execution_count": null,
      "id": "b5ec71dd",
      "metadata": {
        "id": "b5ec71dd"
      },
      "outputs": [],
      "source": [
        "# Dataset\n",
        "import zipfile\n",
        "\n",
        "z = zipfile.ZipFile('archive.zip')\n",
        "\n",
        "z.extractall()"
      ]
    },
    {
      "cell_type": "code",
      "execution_count": null,
      "id": "a018ad1a",
      "metadata": {
        "colab": {
          "base_uri": "https://localhost:8080/"
        },
        "id": "a018ad1a",
        "outputId": "41dd00b5-db07-4556-b64c-f58c24d2f5c3"
      },
      "outputs": [
        {
          "output_type": "stream",
          "name": "stdout",
          "text": [
            "All files are renamed in the yes dir.\n"
          ]
        }
      ],
      "source": [
        "folder = 'brain_tumor_dataset/yes/'\n",
        "count = 1\n",
        "\n",
        "for filename in os.listdir(folder):\n",
        "    source = folder + filename\n",
        "    destination = folder + \"Y_\" +str(count)+\".jpg\"\n",
        "    os.rename(source, destination)\n",
        "    count+=1\n",
        "print(\"All files are renamed in the yes dir.\")"
      ]
    },
    {
      "cell_type": "code",
      "execution_count": null,
      "id": "b6066946",
      "metadata": {
        "colab": {
          "base_uri": "https://localhost:8080/"
        },
        "id": "b6066946",
        "outputId": "6a5d7078-c556-40c0-a27d-a3a0eeeaae74"
      },
      "outputs": [
        {
          "output_type": "stream",
          "name": "stdout",
          "text": [
            "All files are renamed in the no dir.\n"
          ]
        }
      ],
      "source": [
        "folder = 'brain_tumor_dataset/no/'\n",
        "count = 1\n",
        "\n",
        "for filename in os.listdir(folder):\n",
        "    source = folder + filename\n",
        "    destination = folder + \"N_\" +str(count)+\".jpg\"\n",
        "    os.rename(source, destination)\n",
        "    count+=1\n",
        "print(\"All files are renamed in the no dir.\")"
      ]
    },
    {
      "cell_type": "code",
      "execution_count": null,
      "id": "2f9f8f85",
      "metadata": {
        "id": "2f9f8f85"
      },
      "outputs": [],
      "source": [
        "# EDA(Exploratory Data Analysis)"
      ]
    },
    {
      "cell_type": "code",
      "execution_count": null,
      "id": "3fcefd1e",
      "metadata": {
        "colab": {
          "base_uri": "https://localhost:8080/"
        },
        "id": "3fcefd1e",
        "outputId": "9245d1e2-023e-4983-a60c-23b19148bd76"
      },
      "outputs": [
        {
          "output_type": "stream",
          "name": "stdout",
          "text": [
            "155\n",
            "98\n"
          ]
        }
      ],
      "source": [
        "listyes = os.listdir(\"brain_tumor_dataset/yes/\")\n",
        "number_files_yes = len(listyes)\n",
        "print(number_files_yes)\n",
        "\n",
        "listno = os.listdir(\"brain_tumor_dataset/no/\")\n",
        "number_files_no = len(listno)\n",
        "print(number_files_no)"
      ]
    },
    {
      "cell_type": "code",
      "execution_count": null,
      "id": "382182c5",
      "metadata": {
        "id": "382182c5"
      },
      "outputs": [],
      "source": [
        "# Plot"
      ]
    },
    {
      "cell_type": "code",
      "execution_count": null,
      "id": "35d28e81",
      "metadata": {
        "colab": {
          "base_uri": "https://localhost:8080/",
          "height": 646
        },
        "id": "35d28e81",
        "outputId": "8de2a640-3428-481d-c2af-18cef6cb4d10"
      },
      "outputs": [
        {
          "output_type": "display_data",
          "data": {
            "text/plain": [
              "<Figure size 500x700 with 1 Axes>"
            ],
            "image/png": "[encoded data removed]"
          },
          "metadata": {}
        }
      ],
      "source": [
        "data = {'tumorous': number_files_yes, 'non-tumorous': number_files_no}\n",
        "\n",
        "typex = data.keys()\n",
        "values = data.values()\n",
        "\n",
        "fig = plt.figure(figsize=(5,7))\n",
        "\n",
        "plt.bar(typex, values, color=\"red\")\n",
        "\n",
        "plt.xlabel(\"Data\")\n",
        "plt.ylabel(\"No of Brain Tumor Images\")\n",
        "plt.title(\"Count of Brain Tumor Images\")\n",
        "plt.show()"
      ]
    },
    {
      "cell_type": "code",
      "execution_count": null,
      "id": "58febde6",
      "metadata": {
        "id": "58febde6"
      },
      "outputs": [],
      "source": [
        "# Data Augmentation\n",
        "# 155(61%), 98(39%)\n",
        "# imbalance"
      ]
    },
    {
      "cell_type": "code",
      "execution_count": null,
      "id": "3a56a756",
      "metadata": {
        "id": "3a56a756"
      },
      "outputs": [],
      "source": [
        "import tensorflow as tf\n",
        "from tensorflow.keras.preprocessing.image import ImageDataGenerator\n",
        "from tensorflow.keras.models import Model\n",
        "from tensorflow.keras.layers import Flatten, Dense, Dropout\n",
        "from tensorflow.keras.applications.vgg19 import VGG19\n",
        "from tensorflow.keras.optimizers import SGD, Adam\n",
        "from tensorflow.keras.callbacks import ModelCheckpoint, EarlyStopping, ReduceLROnPlateau"
      ]
    },
    {
      "cell_type": "code",
      "execution_count": null,
      "id": "b1498e40",
      "metadata": {
        "id": "b1498e40"
      },
      "outputs": [],
      "source": [
        "def timing(sec_elapsed):\n",
        "    h = int(sec_elapsed / (60*60))\n",
        "    m = int(sec_elapsed % (60*60) / 60)\n",
        "    s = sec_elapsed % 60\n",
        "    return f\"{h}:{m}:{s}\""
      ]
    },
    {
      "cell_type": "code",
      "source": [
        "from tensorflow.keras.preprocessing.image import ImageDataGenerator, img_to_array, load_img\n",
        "import os\n",
        "\n",
        "def augmented_data(file_dir, n_generated_samples, save_to_dir):\n",
        "    datagen = ImageDataGenerator(\n",
        "        rescale=1./255,\n",
        "        rotation_range=40,\n",
        "        width_shift_range=0.2,\n",
        "        height_shift_range=0.2,\n",
        "        shear_range=0.2,\n",
        "        zoom_range=0.2,\n",
        "        horizontal_flip=True,\n",
        "        fill_mode='nearest'\n",
        "    )\n",
        "\n",
        "    if not os.path.exists(save_to_dir):\n",
        "        os.makedirs(save_to_dir)\n",
        "\n",
        "    for img_file in os.listdir(file_dir):\n",
        "        img_path = os.path.join(file_dir, img_file)\n",
        "        img = load_img(img_path)  # Load image\n",
        "        img = img.resize((240, 240))  # Resize image if needed\n",
        "        x = img_to_array(img)  # Convert to numpy array\n",
        "        x = x.reshape((1,) + x.shape)  # Reshape\n",
        "\n",
        "        i = 0\n",
        "        for batch in datagen.flow(x, batch_size=1, save_to_dir=save_to_dir, save_prefix='aug', save_format='jpeg'):\n",
        "            i += 1\n",
        "            if i >= n_generated_samples:\n",
        "                break\n"
      ],
      "metadata": {
        "id": "-4fcaCdgPX1g"
      },
      "id": "-4fcaCdgPX1g",
      "execution_count": null,
      "outputs": []
    },
    {
      "cell_type": "code",
      "source": [
        "import time\n",
        "start_time = time.time()\n",
        "\n",
        "yes_path = 'brain_tumor_dataset/yes'\n",
        "no_path = 'brain_tumor_dataset/no'\n",
        "augmented_data_path = \"augmented_data/\"\n",
        "\n",
        "# Example usage; adjust n_generated_samples based on your specific balance goals\n",
        "augmented_data(file_dir=yes_path, n_generated_samples=7, save_to_dir=augmented_data_path + 'yes')  # For \"yes\" class\n",
        "augmented_data(file_dir=no_path, n_generated_samples=10, save_to_dir=augmented_data_path + 'no')  # For \"no\" class\n",
        "\n",
        "end_time = time.time()\n",
        "execution_time = end_time - start_time\n",
        "print(f\"Execution time: {execution_time} seconds\")\n"
      ],
      "metadata": {
        "colab": {
          "base_uri": "https://localhost:8080/"
        },
        "id": "bA5wI9s7Pbtv",
        "outputId": "1052044e-5e8c-4c63-b9c8-1979a7fc4f37"
      },
      "id": "bA5wI9s7Pbtv",
      "execution_count": null,
      "outputs": [
        {
          "output_type": "stream",
          "name": "stdout",
          "text": [
            "Execution time: 23.153429985046387 seconds\n"
          ]
        }
      ]
    },
    {
      "cell_type": "code",
      "source": [
        "def data_summary(main_path):\n",
        "    yes_path = os.path.join(main_path, \"yes/\")\n",
        "    no_path = os.path.join(main_path, \"no/\")\n",
        "\n",
        "    n_pos = len(os.listdir(yes_path))\n",
        "    n_neg = len(os.listdir(no_path))\n",
        "\n",
        "    n = (n_pos + n_neg)\n",
        "\n",
        "    pos_per = (n_pos * 100) / n\n",
        "    neg_per = (n_neg * 100) / n\n",
        "\n",
        "    print(f\"Number of sample: {n}\")\n",
        "    print(f\"{n_pos} Number of positive sample in percentage: {pos_per}%\")\n",
        "    print(f\"{n_neg} Number of negative sample in percentage: {neg_per}%\")\n",
        "\n",
        "data_summary(augmented_data_path)\n"
      ],
      "metadata": {
        "colab": {
          "base_uri": "https://localhost:8080/"
        },
        "id": "l3r_MIOyPfQX",
        "outputId": "4852adfd-7b2a-407b-e049-07fc5917876b"
      },
      "id": "l3r_MIOyPfQX",
      "execution_count": null,
      "outputs": [
        {
          "output_type": "stream",
          "name": "stdout",
          "text": [
            "Number of sample: 3887\n",
            "2084 Number of positive sample in percentage: 53.61461281193723%\n",
            "1803 Number of negative sample in percentage: 46.38538718806277%\n"
          ]
        }
      ]
    },
    {
      "cell_type": "code",
      "execution_count": null,
      "id": "930c420c",
      "metadata": {
        "id": "930c420c",
        "outputId": "24f9f820-661d-4f17-abf0-efb8655e803f",
        "colab": {
          "base_uri": "https://localhost:8080/"
        }
      },
      "outputs": [
        {
          "output_type": "stream",
          "name": "stdout",
          "text": [
            "2084\n",
            "1803\n"
          ]
        }
      ],
      "source": [
        "listyes = os.listdir(\"augmented_data/yes/\")\n",
        "number_files_yes = len(listyes)\n",
        "print(number_files_yes)\n",
        "\n",
        "listno = os.listdir(\"augmented_data/no/\")\n",
        "number_files_no = len(listno)\n",
        "print(number_files_no)"
      ]
    },
    {
      "cell_type": "code",
      "execution_count": null,
      "id": "d535d0c3",
      "metadata": {
        "id": "d535d0c3",
        "outputId": "c2100117-7f13-424d-e525-784c935d146b",
        "colab": {
          "base_uri": "https://localhost:8080/",
          "height": 646
        }
      },
      "outputs": [
        {
          "output_type": "display_data",
          "data": {
            "text/plain": [
              "<Figure size 500x700 with 1 Axes>"
            ],
            "image/png": "[encoded data removed]"
          },
          "metadata": {}
        }
      ],
      "source": [
        "data = {'tumorous': number_files_yes, 'non-tumorous': number_files_no}\n",
        "\n",
        "typex = data.keys()\n",
        "values = data.values()\n",
        "\n",
        "fig = plt.figure(figsize=(5,7))\n",
        "\n",
        "plt.bar(typex, values, color=\"red\")\n",
        "\n",
        "plt.xlabel(\"Data\")\n",
        "plt.ylabel(\"No of Brain Tumor Images\")\n",
        "plt.title(\"Count of Brain Tumor Images\")\n",
        "plt.show()"
      ]
    },
    {
      "cell_type": "code",
      "execution_count": null,
      "id": "14b3df86",
      "metadata": {
        "id": "14b3df86"
      },
      "outputs": [],
      "source": [
        "# Data Preprocessing"
      ]
    },
    {
      "cell_type": "code",
      "execution_count": null,
      "id": "7d91bf16",
      "metadata": {
        "id": "7d91bf16"
      },
      "outputs": [],
      "source": [
        "# Convert BGR TO GRAY\n",
        "# GaussianBlur\n",
        "# Threshold\n",
        "# Erode\n",
        "# Dilate\n",
        "# Find Contours"
      ]
    },
    {
      "cell_type": "code",
      "execution_count": null,
      "id": "0576e87c",
      "metadata": {
        "id": "0576e87c"
      },
      "outputs": [],
      "source": [
        "import imutils\n",
        "def crop_brain_tumor(image, plot=False):\n",
        "    gray = cv2.cvtColor(image, cv2.COLOR_BGR2GRAY)\n",
        "    gray = cv2.GaussianBlur(gray, (5,5), 0)\n",
        "\n",
        "    thres = cv2.threshold(gray, 45, 255, cv2.THRESH_BINARY)[1]\n",
        "    thres =cv2.erode(thres, None, iterations = 2)\n",
        "    thres = cv2.dilate(thres, None, iterations = 2)\n",
        "\n",
        "    cnts = cv2.findContours(thres.copy(), cv2.RETR_EXTERNAL, cv2.CHAIN_APPROX_SIMPLE)\n",
        "    cnts = imutils.grab_contours(cnts)\n",
        "    c = max(cnts, key = cv2.contourArea)\n",
        "\n",
        "    extLeft = tuple(c[c[:,:,0].argmin()][0])\n",
        "    extRight = tuple(c[c[:,:,0].argmax()][0])\n",
        "    extTop = tuple(c[c[:,:,1].argmin()][0])\n",
        "    extBot = tuple(c[c[:,:,1].argmax()][0])\n",
        "\n",
        "    new_image = image[extTop[1]:extBot[1], extLeft[0]:extRight[0]]\n",
        "\n",
        "    if plot:\n",
        "        plt.figure()\n",
        "        plt.subplot(1, 2, 1)\n",
        "        plt.imshow(image)\n",
        "\n",
        "        plt.tick_params(axis='both', which='both',\n",
        "                        top=False, bottom=False, left=False, right=False,\n",
        "                        labelbottom=False, labeltop=False, labelleft=False, labelright=False)\n",
        "\n",
        "        plt.title('Original Image')\n",
        "\n",
        "        plt.subplot(1, 2, 2)\n",
        "        plt.imshow(new_image)\n",
        "\n",
        "        plt.tick_params(axis='both', which='both',\n",
        "                        top=False, bottom=False, left=False, right=False,\n",
        "                        labelbottom=False, labeltop=False, labelleft=False, labelright=False)\n",
        "\n",
        "        plt.title('Cropped Image')\n",
        "        plt.show()\n",
        "    return new_image\n"
      ]
    },
    {
      "cell_type": "code",
      "execution_count": null,
      "id": "684dd5b1",
      "metadata": {
        "id": "684dd5b1",
        "outputId": "de069ecc-fa21-4489-86df-6e8d611ffae5",
        "colab": {
          "base_uri": "https://localhost:8080/",
          "height": 314
        }
      },
      "outputs": [
        {
          "output_type": "error",
          "ename": "error",
          "evalue": "OpenCV(4.8.0) /io/opencv/modules/imgproc/src/color.cpp:182: error: (-215:Assertion failed) !_src.empty() in function 'cvtColor'\n",
          "traceback": [
            "\u001b[0;31m---------------------------------------------------------------------------\u001b[0m",
            "\u001b[0;31merror\u001b[0m                                     Traceback (most recent call last)",
            "\u001b[0;32m<ipython-input-22-da368cc09f6c>\u001b[0m in \u001b[0;36m<cell line: 2>\u001b[0;34m()\u001b[0m\n\u001b[1;32m      1\u001b[0m \u001b[0mimg\u001b[0m \u001b[0;34m=\u001b[0m \u001b[0mcv2\u001b[0m\u001b[0;34m.\u001b[0m\u001b[0mimread\u001b[0m\u001b[0;34m(\u001b[0m\u001b[0;34m'augmented_data/yes/aug_0_1.jpeg'\u001b[0m\u001b[0;34m)\u001b[0m\u001b[0;34m\u001b[0m\u001b[0;34m\u001b[0m\u001b[0m\n\u001b[0;32m----> 2\u001b[0;31m \u001b[0mcrop_brain_tumor\u001b[0m\u001b[0;34m(\u001b[0m\u001b[0mimg\u001b[0m\u001b[0;34m,\u001b[0m \u001b[0;32mTrue\u001b[0m\u001b[0;34m)\u001b[0m\u001b[0;34m\u001b[0m\u001b[0;34m\u001b[0m\u001b[0m\n\u001b[0m",
            "\u001b[0;32m<ipython-input-20-a847b5584262>\u001b[0m in \u001b[0;36mcrop_brain_tumor\u001b[0;34m(image, plot)\u001b[0m\n\u001b[1;32m      1\u001b[0m \u001b[0;32mimport\u001b[0m \u001b[0mimutils\u001b[0m\u001b[0;34m\u001b[0m\u001b[0;34m\u001b[0m\u001b[0m\n\u001b[1;32m      2\u001b[0m \u001b[0;32mdef\u001b[0m \u001b[0mcrop_brain_tumor\u001b[0m\u001b[0;34m(\u001b[0m\u001b[0mimage\u001b[0m\u001b[0;34m,\u001b[0m \u001b[0mplot\u001b[0m\u001b[0;34m=\u001b[0m\u001b[0;32mFalse\u001b[0m\u001b[0;34m)\u001b[0m\u001b[0;34m:\u001b[0m\u001b[0;34m\u001b[0m\u001b[0;34m\u001b[0m\u001b[0m\n\u001b[0;32m----> 3\u001b[0;31m     \u001b[0mgray\u001b[0m \u001b[0;34m=\u001b[0m \u001b[0mcv2\u001b[0m\u001b[0;34m.\u001b[0m\u001b[0mcvtColor\u001b[0m\u001b[0;34m(\u001b[0m\u001b[0mimage\u001b[0m\u001b[0;34m,\u001b[0m \u001b[0mcv2\u001b[0m\u001b[0;34m.\u001b[0m\u001b[0mCOLOR_BGR2GRAY\u001b[0m\u001b[0;34m)\u001b[0m\u001b[0;34m\u001b[0m\u001b[0;34m\u001b[0m\u001b[0m\n\u001b[0m\u001b[1;32m      4\u001b[0m     \u001b[0mgray\u001b[0m \u001b[0;34m=\u001b[0m \u001b[0mcv2\u001b[0m\u001b[0;34m.\u001b[0m\u001b[0mGaussianBlur\u001b[0m\u001b[0;34m(\u001b[0m\u001b[0mgray\u001b[0m\u001b[0;34m,\u001b[0m \u001b[0;34m(\u001b[0m\u001b[0;36m5\u001b[0m\u001b[0;34m,\u001b[0m\u001b[0;36m5\u001b[0m\u001b[0;34m)\u001b[0m\u001b[0;34m,\u001b[0m \u001b[0;36m0\u001b[0m\u001b[0;34m)\u001b[0m\u001b[0;34m\u001b[0m\u001b[0;34m\u001b[0m\u001b[0m\n\u001b[1;32m      5\u001b[0m \u001b[0;34m\u001b[0m\u001b[0m\n",
            "\u001b[0;31merror\u001b[0m: OpenCV(4.8.0) /io/opencv/modules/imgproc/src/color.cpp:182: error: (-215:Assertion failed) !_src.empty() in function 'cvtColor'\n"
          ]
        }
      ],
      "source": [
        "img = cv2.imread('augmented_data/yes/aug_0_1.jpeg')\n",
        "crop_brain_tumor(img, True)"
      ]
    },
    {
      "cell_type": "code",
      "execution_count": null,
      "id": "5a27ddf2",
      "metadata": {
        "id": "5a27ddf2"
      },
      "outputs": [],
      "source": [
        "img = cv2.imread('augmented_data/no/aug_N_1_0_109.jpg')\n",
        "crop_brain_tumor(img, True)"
      ]
    },
    {
      "cell_type": "code",
      "execution_count": null,
      "id": "6d4ca9d2",
      "metadata": {
        "id": "6d4ca9d2"
      },
      "outputs": [],
      "source": [
        "folder1 = 'augmented_data/no/'\n",
        "folder2 = 'augmented_data/yes/'\n",
        "\n",
        "for filename in os.listdir(folder1):\n",
        "    img = cv2.imread(folder1 + filename)\n",
        "    img = crop_brain_tumor(img, False)\n",
        "    cv2.imwrite(folder1 + filename, img)\n",
        "for filename in os.listdir(folder2):\n",
        "    img = cv2.imread(folder2 + filename)\n",
        "    img = crop_brain_tumor(img, False)\n",
        "    cv2.imwrite(folder2 + filename, img)"
      ]
    },
    {
      "cell_type": "code",
      "execution_count": null,
      "id": "689e8158",
      "metadata": {
        "id": "689e8158"
      },
      "outputs": [],
      "source": []
    },
    {
      "cell_type": "code",
      "execution_count": null,
      "id": "e409128d",
      "metadata": {
        "id": "e409128d"
      },
      "outputs": [],
      "source": [
        "# image loading"
      ]
    },
    {
      "cell_type": "code",
      "execution_count": null,
      "id": "b49efa95",
      "metadata": {
        "id": "b49efa95"
      },
      "outputs": [],
      "source": [
        "from sklearn.utils import shuffle\n",
        "def load_data(dir_list, image_size):\n",
        "    X=[]\n",
        "    y=[]\n",
        "\n",
        "    image_width, image_height=image_size\n",
        "\n",
        "    for directory in dir_list:\n",
        "        for filename in os.listdir(directory):\n",
        "            image = cv2.imread(directory + '/' + filename)\n",
        "            image = crop_brain_tumor(image, plot=False)\n",
        "            image = cv2.resize(image, dsize=(image_width, image_height), interpolation = cv2.INTER_CUBIC)\n",
        "            image = image/255.00\n",
        "            X.append(image)\n",
        "            if directory[-3:] == \"yes\":\n",
        "                y.append(1)\n",
        "            else:\n",
        "                y.append(0)\n",
        "    X=np.array(X)\n",
        "    y=np.array(y)\n",
        "\n",
        "    X,y = shuffle(X,y)\n",
        "    print(f\"Number of example is : {len(X)}\")\n",
        "    print(f\"X SHAPE is : {X.shape}\")\n",
        "    print(f\"y SHAPE is : {y.shape}\")\n",
        "    return X,y\n"
      ]
    },
    {
      "cell_type": "code",
      "execution_count": null,
      "id": "aa0b69a2",
      "metadata": {
        "id": "aa0b69a2",
        "outputId": "62660c47-b2ab-413a-95c4-dd276deba588",
        "colab": {
          "base_uri": "https://localhost:8080/"
        }
      },
      "outputs": [
        {
          "output_type": "stream",
          "name": "stdout",
          "text": [
            "Number of example is : 3887\n",
            "X SHAPE is : (3887, 240, 240, 3)\n",
            "y SHAPE is : (3887,)\n"
          ]
        }
      ],
      "source": [
        "augmented_path = 'augmented_data/'\n",
        "augmeneted_yes = augmented_path + 'yes'\n",
        "augmeneted_no = augmented_path + 'no'\n",
        "\n",
        "IMAGE_WIDTH, IMAGE_HEIGHT = (240,240)\n",
        "\n",
        "X,y = load_data([augmeneted_yes, augmeneted_no], (IMAGE_WIDTH, IMAGE_HEIGHT))"
      ]
    },
    {
      "cell_type": "code",
      "execution_count": null,
      "id": "f153af34",
      "metadata": {
        "id": "f153af34"
      },
      "outputs": [],
      "source": [
        "def plot_sample_images(X, y, n=50):\n",
        "\n",
        "    for label in [0,1]:\n",
        "        images = X[np.argwhere(y == label)]\n",
        "        n_images = images[:n]\n",
        "\n",
        "        columns_n = 10\n",
        "        rows_n = int(n/ columns_n)\n",
        "\n",
        "        plt.figure(figsize=(20, 10))\n",
        "\n",
        "        i = 1\n",
        "        for image in n_images:\n",
        "            plt.subplot(rows_n, columns_n, i)\n",
        "            plt.imshow(image[0])\n",
        "\n",
        "            plt.tick_params(axis='both', which='both',\n",
        "                            top=False, bottom=False, left=False, right=False,\n",
        "                            labelbottom=False, labeltop=False, labelleft=False,\n",
        "                            labelright=False)\n",
        "\n",
        "            i += 1\n",
        "\n",
        "        label_to_str = lambda label: \"Yes\" if label == 1 else \"No\"\n",
        "        plt.suptitle(f\"Brain Tumor: {label_to_str(label)}\")\n",
        "        plt.show()"
      ]
    },
    {
      "cell_type": "code",
      "execution_count": null,
      "id": "5c497096",
      "metadata": {
        "id": "5c497096"
      },
      "outputs": [],
      "source": [
        "plot_sample_images(X,y)"
      ]
    },
    {
      "cell_type": "code",
      "execution_count": null,
      "id": "15293708",
      "metadata": {
        "id": "15293708"
      },
      "outputs": [],
      "source": [
        "# Data Spliting\n",
        "# Train\n",
        "# Test\n",
        "# Validation"
      ]
    },
    {
      "cell_type": "code",
      "execution_count": null,
      "id": "ebdc1900",
      "metadata": {
        "id": "ebdc1900"
      },
      "outputs": [],
      "source": [
        "if not os.path.isdir('tumorous_and_nontumorous'):\n",
        "    base_dir = 'tumorous_and_nontumorous'\n",
        "    os.mkdir(base_dir)"
      ]
    },
    {
      "cell_type": "code",
      "execution_count": null,
      "id": "dbdfb5e0",
      "metadata": {
        "id": "dbdfb5e0"
      },
      "outputs": [],
      "source": [
        "if not os.path.isdir('tumorous_and_nontumorous/train'):\n",
        "    train_dir = os.path.join(base_dir , 'train')\n",
        "    os.mkdir(train_dir)\n",
        "if not os.path.isdir('tumorous_and_nontumorous/test'):\n",
        "    test_dir = os.path.join(base_dir , 'test')\n",
        "    os.mkdir(test_dir)\n",
        "if not os.path.isdir('tumorous_and_nontumorous/valid'):\n",
        "    valid_dir = os.path.join(base_dir , 'valid')\n",
        "    os.mkdir(valid_dir)"
      ]
    },
    {
      "cell_type": "code",
      "execution_count": null,
      "id": "e8dd248f",
      "metadata": {
        "id": "e8dd248f"
      },
      "outputs": [],
      "source": [
        "if not os.path.isdir('tumorous_and_nontumorous/train/tumorous'):\n",
        "    infected_train_dir = os.path.join(train_dir, 'tumorous')\n",
        "    os.mkdir(infected_train_dir)\n",
        "if not os.path.isdir('tumorous_and_nontumorous/test/tumorous'):\n",
        "    infected_test_dir = os.path.join(test_dir, 'tumorous')\n",
        "    os.mkdir(infected_test_dir)\n",
        "if not os.path.isdir('tumorous_and_nontumorous/valid/tumorous'):\n",
        "    infected_valid_dir = os.path.join(valid_dir, 'tumorous')\n",
        "    os.mkdir(infected_valid_dir)"
      ]
    },
    {
      "cell_type": "code",
      "execution_count": null,
      "id": "f9185e4c",
      "metadata": {
        "id": "f9185e4c"
      },
      "outputs": [],
      "source": [
        "if not os.path.isdir('tumorous_and_nontumorous/train/nontumorous'):\n",
        "    healthy_train_dir = os.path.join(train_dir, 'nontumorous')\n",
        "    os.mkdir(healthy_train_dir)\n",
        "if not os.path.isdir('tumorous_and_nontumorous/test/nontumorous'):\n",
        "    healthy_test_dir = os.path.join(test_dir, 'nontumorous')\n",
        "    os.mkdir(healthy_test_dir)\n",
        "if not os.path.isdir('tumorous_and_nontumorous/valid/nontumorous'):\n",
        "    healthy_valid_dir = os.path.join(valid_dir, 'nontumorous')\n",
        "    os.mkdir(healthy_valid_dir)"
      ]
    },
    {
      "cell_type": "code",
      "execution_count": null,
      "id": "98742ccd",
      "metadata": {
        "id": "98742ccd"
      },
      "outputs": [],
      "source": []
    },
    {
      "cell_type": "code",
      "execution_count": null,
      "id": "88af42d7",
      "metadata": {
        "id": "88af42d7"
      },
      "outputs": [],
      "source": [
        "original_dataset_tumorours = os.path.join('augmented_data','yes/')\n",
        "original_dataset_nontumorours = os.path.join('augmented_data','no/')"
      ]
    },
    {
      "cell_type": "code",
      "execution_count": null,
      "id": "2e167e5b",
      "metadata": {
        "id": "2e167e5b"
      },
      "outputs": [],
      "source": [
        "files = os.listdir('augmented_data/yes/')\n",
        "fnames = []\n",
        "for i in range(0,759):\n",
        "    fnames.append(files[i])\n",
        "for fname in fnames:\n",
        "    src = os.path.join(original_dataset_tumorours, fname)\n",
        "    dst = os.path.join(infected_train_dir, fname)\n",
        "    shutil.copyfile(src, dst)"
      ]
    },
    {
      "cell_type": "code",
      "execution_count": null,
      "id": "9be665b1",
      "metadata": {
        "id": "9be665b1"
      },
      "outputs": [],
      "source": [
        "files = os.listdir('augmented_data/yes/')\n",
        "fnames = []\n",
        "for i in range(759,922):\n",
        "    fnames.append(files[i])\n",
        "for fname in fnames:\n",
        "    src = os.path.join(original_dataset_tumorours, fname)\n",
        "    dst = os.path.join(infected_test_dir, fname)\n",
        "    shutil.copyfile(src, dst)"
      ]
    },
    {
      "cell_type": "code",
      "execution_count": null,
      "id": "976173ae",
      "metadata": {
        "id": "976173ae"
      },
      "outputs": [],
      "source": [
        "files = os.listdir('augmented_data/yes/')\n",
        "fnames = []\n",
        "for i in range(922,1085):\n",
        "    fnames.append(files[i])\n",
        "for fname in fnames:\n",
        "    src = os.path.join(original_dataset_tumorours, fname)\n",
        "    dst = os.path.join(infected_valid_dir, fname)\n",
        "    shutil.copyfile(src, dst)"
      ]
    },
    {
      "cell_type": "code",
      "execution_count": null,
      "id": "adb6d8ea",
      "metadata": {
        "id": "adb6d8ea"
      },
      "outputs": [],
      "source": [
        "# 80% 10% 10%"
      ]
    },
    {
      "cell_type": "code",
      "execution_count": null,
      "id": "be84376b",
      "metadata": {
        "id": "be84376b"
      },
      "outputs": [],
      "source": [
        "files = os.listdir('augmented_data/no/')\n",
        "fnames = []\n",
        "for i in range(0,686):\n",
        "    fnames.append(files[i])\n",
        "for fname in fnames:\n",
        "    src = os.path.join(original_dataset_nontumorours, fname)\n",
        "    dst = os.path.join(healthy_train_dir, fname)\n",
        "    shutil.copyfile(src, dst)"
      ]
    },
    {
      "cell_type": "code",
      "execution_count": null,
      "id": "f1cf3830",
      "metadata": {
        "id": "f1cf3830"
      },
      "outputs": [],
      "source": [
        "files = os.listdir('augmented_data/no/')\n",
        "fnames = []\n",
        "for i in range(686,833):\n",
        "    fnames.append(files[i])\n",
        "for fname in fnames:\n",
        "    src = os.path.join(original_dataset_nontumorours, fname)\n",
        "    dst = os.path.join(healthy_test_dir, fname)\n",
        "    shutil.copyfile(src, dst)"
      ]
    },
    {
      "cell_type": "code",
      "execution_count": null,
      "id": "b09693a4",
      "metadata": {
        "id": "b09693a4"
      },
      "outputs": [],
      "source": [
        "files = os.listdir('augmented_data/no/')\n",
        "fnames = []\n",
        "for i in range(833,979):\n",
        "    fnames.append(files[i])\n",
        "for fname in fnames:\n",
        "    src = os.path.join(original_dataset_nontumorours, fname)\n",
        "    dst = os.path.join(healthy_valid_dir, fname)\n",
        "    shutil.copyfile(src, dst)"
      ]
    },
    {
      "cell_type": "code",
      "execution_count": null,
      "id": "5364c363",
      "metadata": {
        "id": "5364c363"
      },
      "outputs": [],
      "source": [
        "# Model Buliding"
      ]
    },
    {
      "cell_type": "code",
      "execution_count": null,
      "id": "dbb52104",
      "metadata": {
        "id": "dbb52104"
      },
      "outputs": [],
      "source": [
        "train_datagen = ImageDataGenerator(rescale = 1./255,\n",
        "                  horizontal_flip=0.4,\n",
        "                  vertical_flip=0.4,\n",
        "                  rotation_range=40,\n",
        "                  shear_range=0.2,\n",
        "                  width_shift_range=0.4,\n",
        "                  height_shift_range=0.4,\n",
        "                  fill_mode='nearest')\n",
        "test_data_gen = ImageDataGenerator(rescale=1.0/255)\n",
        "valid_data_gen = ImageDataGenerator(rescale=1.0/255)"
      ]
    },
    {
      "cell_type": "code",
      "execution_count": null,
      "id": "e5170cef",
      "metadata": {
        "id": "e5170cef",
        "outputId": "7758e3c5-d43c-4183-e2bd-91ef9f2c76db",
        "colab": {
          "base_uri": "https://localhost:8080/"
        }
      },
      "outputs": [
        {
          "output_type": "stream",
          "name": "stdout",
          "text": [
            "Found 1445 images belonging to 2 classes.\n"
          ]
        }
      ],
      "source": [
        "train_generator = train_datagen.flow_from_directory('tumorous_and_nontumorous/train/', batch_size=32, target_size=(240,240), class_mode='categorical',shuffle=True, seed = 42, color_mode = 'rgb')\n"
      ]
    },
    {
      "cell_type": "code",
      "execution_count": null,
      "id": "2352c260",
      "metadata": {
        "id": "2352c260",
        "outputId": "ba6a5893-3222-4d47-96be-357d5d532fc9",
        "colab": {
          "base_uri": "https://localhost:8080/"
        }
      },
      "outputs": [
        {
          "output_type": "stream",
          "name": "stdout",
          "text": [
            "Found 310 images belonging to 2 classes.\n"
          ]
        }
      ],
      "source": [
        "test_generator = train_datagen.flow_from_directory('tumorous_and_nontumorous/test/', batch_size=32, target_size=(240,240), class_mode='categorical',shuffle=True, seed = 42, color_mode = 'rgb')\n"
      ]
    },
    {
      "cell_type": "code",
      "execution_count": null,
      "id": "c6d8a4c0",
      "metadata": {
        "id": "c6d8a4c0",
        "outputId": "20745060-ec13-417f-d9b7-fad6acd576c2",
        "colab": {
          "base_uri": "https://localhost:8080/"
        }
      },
      "outputs": [
        {
          "output_type": "stream",
          "name": "stdout",
          "text": [
            "Found 309 images belonging to 2 classes.\n"
          ]
        }
      ],
      "source": [
        "valid_generator = train_datagen.flow_from_directory('tumorous_and_nontumorous/valid/', batch_size=32, target_size=(240,240), class_mode='categorical',shuffle=True, seed = 42, color_mode = 'rgb')\n"
      ]
    },
    {
      "cell_type": "code",
      "execution_count": null,
      "id": "a49d8efe",
      "metadata": {
        "id": "a49d8efe"
      },
      "outputs": [],
      "source": [
        "class_labels = train_generator.class_indices\n",
        "class_name = {value: key for (key,value) in class_labels.items()}"
      ]
    },
    {
      "cell_type": "code",
      "execution_count": null,
      "id": "379b5577",
      "metadata": {
        "id": "379b5577",
        "outputId": "023112b8-0170-46df-fff6-4163b6b199c4",
        "colab": {
          "base_uri": "https://localhost:8080/"
        }
      },
      "outputs": [
        {
          "output_type": "execute_result",
          "data": {
            "text/plain": [
              "{0: 'nontumorous', 1: 'tumorous'}"
            ]
          },
          "metadata": {},
          "execution_count": 43
        }
      ],
      "source": [
        "class_name"
      ]
    },
    {
      "cell_type": "code",
      "execution_count": null,
      "id": "66f842f2",
      "metadata": {
        "id": "66f842f2"
      },
      "outputs": [],
      "source": [
        "from tensorflow.keras.applications import VGG19\n",
        "from tensorflow.keras.models import Model\n",
        "from tensorflow.keras.layers import Flatten, Dense, Dropout\n",
        "\n",
        "vgg19_base = VGG19(include_top=False, weights='imagenet', input_shape=(240, 240, 3))\n",
        "vgg19_base.trainable = False\n"
      ]
    },
    {
      "cell_type": "code",
      "source": [
        "from tensorflow.keras import layers, models\n",
        "\n",
        "x = Flatten()(vgg19_base.output)\n",
        "x = Dense(512, activation='relu')(x)\n",
        "x = Dropout(0.5)(x)\n",
        "predictions = Dense(1, activation='sigmoid')(x)  # Assuming binary classification\n",
        "\n",
        "model = Model(inputs=vgg19_base.input, outputs=predictions)\n"
      ],
      "metadata": {
        "id": "fMEzysdxeNgx"
      },
      "id": "fMEzysdxeNgx",
      "execution_count": null,
      "outputs": []
    },
    {
      "cell_type": "code",
      "source": [
        "model.compile(optimizer='adam', loss='binary_crossentropy', metrics=['accuracy'])\n",
        "\n",
        "# Use train_generator and validation_generator as previously defined\n",
        "history = model.fit(train_generator, epochs=20, validation_data=valid_generator, verbose=2)\n"
      ],
      "metadata": {
        "colab": {
          "base_uri": "https://localhost:8080/"
        },
        "id": "qZ1pP7Z4eTR4",
        "outputId": "0054d19c-bffb-41c1-f619-d8a11a7ca42c"
      },
      "id": "qZ1pP7Z4eTR4",
      "execution_count": null,
      "outputs": [
        {
          "output_type": "stream",
          "name": "stdout",
          "text": [
            "Epoch 1/20\n",
            "46/46 - 24s - loss: 1.3657 - accuracy: 0.5000 - val_loss: 0.6932 - val_accuracy: 0.5000 - 24s/epoch - 513ms/step\n",
            "Epoch 2/20\n",
            "46/46 - 22s - loss: 0.6932 - accuracy: 0.5000 - val_loss: 0.6931 - val_accuracy: 0.5000 - 22s/epoch - 481ms/step\n",
            "Epoch 3/20\n",
            "46/46 - 21s - loss: 0.6932 - accuracy: 0.5000 - val_loss: 0.6931 - val_accuracy: 0.5000 - 21s/epoch - 467ms/step\n",
            "Epoch 4/20\n",
            "46/46 - 22s - loss: 0.6931 - accuracy: 0.5000 - val_loss: 0.6931 - val_accuracy: 0.5000 - 22s/epoch - 473ms/step\n",
            "Epoch 5/20\n",
            "46/46 - 22s - loss: 0.6931 - accuracy: 0.5000 - val_loss: 0.6931 - val_accuracy: 0.5000 - 22s/epoch - 472ms/step\n",
            "Epoch 6/20\n",
            "46/46 - 22s - loss: 0.6931 - accuracy: 0.5000 - val_loss: 0.6931 - val_accuracy: 0.5000 - 22s/epoch - 471ms/step\n",
            "Epoch 7/20\n",
            "46/46 - 22s - loss: 0.6931 - accuracy: 0.5000 - val_loss: 0.6931 - val_accuracy: 0.5000 - 22s/epoch - 475ms/step\n",
            "Epoch 8/20\n",
            "46/46 - 21s - loss: 0.6931 - accuracy: 0.5000 - val_loss: 0.6931 - val_accuracy: 0.5000 - 21s/epoch - 467ms/step\n",
            "Epoch 9/20\n",
            "46/46 - 22s - loss: 0.6931 - accuracy: 0.5000 - val_loss: 0.6931 - val_accuracy: 0.5000 - 22s/epoch - 477ms/step\n",
            "Epoch 10/20\n",
            "46/46 - 21s - loss: 0.6931 - accuracy: 0.5000 - val_loss: 0.6931 - val_accuracy: 0.5000 - 21s/epoch - 465ms/step\n",
            "Epoch 11/20\n",
            "46/46 - 22s - loss: 0.6931 - accuracy: 0.5000 - val_loss: 0.6931 - val_accuracy: 0.5000 - 22s/epoch - 482ms/step\n",
            "Epoch 12/20\n",
            "46/46 - 22s - loss: 0.6931 - accuracy: 0.5000 - val_loss: 0.6931 - val_accuracy: 0.5000 - 22s/epoch - 486ms/step\n",
            "Epoch 13/20\n",
            "46/46 - 21s - loss: 0.6931 - accuracy: 0.5000 - val_loss: 0.6931 - val_accuracy: 0.5000 - 21s/epoch - 464ms/step\n",
            "Epoch 14/20\n",
            "46/46 - 21s - loss: 0.6931 - accuracy: 0.5000 - val_loss: 0.6931 - val_accuracy: 0.5000 - 21s/epoch - 458ms/step\n",
            "Epoch 15/20\n",
            "46/46 - 22s - loss: 0.6931 - accuracy: 0.5000 - val_loss: 0.6931 - val_accuracy: 0.5000 - 22s/epoch - 468ms/step\n",
            "Epoch 16/20\n",
            "46/46 - 22s - loss: 0.6931 - accuracy: 0.5000 - val_loss: 0.6931 - val_accuracy: 0.5000 - 22s/epoch - 478ms/step\n",
            "Epoch 17/20\n",
            "46/46 - 21s - loss: 0.6931 - accuracy: 0.5000 - val_loss: 0.6931 - val_accuracy: 0.5000 - 21s/epoch - 458ms/step\n",
            "Epoch 18/20\n",
            "46/46 - 22s - loss: 0.6931 - accuracy: 0.5000 - val_loss: 0.6931 - val_accuracy: 0.5000 - 22s/epoch - 468ms/step\n",
            "Epoch 19/20\n",
            "46/46 - 22s - loss: 0.6931 - accuracy: 0.5000 - val_loss: 0.6931 - val_accuracy: 0.5000 - 22s/epoch - 478ms/step\n",
            "Epoch 20/20\n",
            "46/46 - 21s - loss: 0.6931 - accuracy: 0.5000 - val_loss: 0.6931 - val_accuracy: 0.5000 - 21s/epoch - 466ms/step\n"
          ]
        }
      ]
    },
    {
      "cell_type": "code",
      "source": [
        "from tensorflow.keras.callbacks import ModelCheckpoint\n",
        "\n",
        "checkpoint = ModelCheckpoint('best_model.h5', monitor='val_accuracy', save_best_only=True, verbose=1)\n",
        "history = model.fit(train_generator, epochs=20, validation_data=validation_generator, callbacks=[checkpoint], verbose=2)\n"
      ],
      "metadata": {
        "id": "0oTwoVhneYyR"
      },
      "id": "0oTwoVhneYyR",
      "execution_count": null,
      "outputs": []
    },
    {
      "cell_type": "markdown",
      "source": [
        "Load Your Model and Define the Prediction Function"
      ],
      "metadata": {
        "id": "qZyyTId-exq2"
      },
      "id": "qZyyTId-exq2"
    },
    {
      "cell_type": "code",
      "source": [
        "import gradio as gr\n",
        "from tensorflow.keras.models import load_model\n",
        "from tensorflow.keras.preprocessing.image import img_to_array, load_img\n",
        "import numpy as np\n",
        "\n",
        "# Load the trained model\n",
        "model = load_model('best_model.h5')\n",
        "\n",
        "def predict_mri(img):\n",
        "    \"\"\"Predict whether an MRI image is tumorous or not.\"\"\"\n",
        "    # Preprocess the image\n",
        "    img = img.resize((240, 240))  # Resize to the input size expected by the model\n",
        "    img_array = img_to_array(img)  # Convert to array\n",
        "    img_array = img_array / 255.0  # Scale pixel values\n",
        "    img_array = np.expand_dims(img_array, axis=0)  # Add batch dimension\n",
        "\n",
        "    # Make prediction\n",
        "    prediction = model.predict(img_array)\n",
        "\n",
        "    # Determine the class\n",
        "    if prediction[0] < 0.5:\n",
        "        return \"Not Tumorous (Probability: {:.2f}%)\".format((1 - prediction[0][0]) * 100)\n",
        "    else:\n",
        "        return \"Tumorous (Probability: {:.2f}%)\".format(prediction[0][0] * 100)\n"
      ],
      "metadata": {
        "id": "Epp9W6YCeeZD"
      },
      "id": "Epp9W6YCeeZD",
      "execution_count": null,
      "outputs": []
    },
    {
      "cell_type": "markdown",
      "source": [
        "Create the Gradio Interface"
      ],
      "metadata": {
        "id": "6WHsshz6e5ll"
      },
      "id": "6WHsshz6e5ll"
    },
    {
      "cell_type": "code",
      "source": [
        "# Define the Gradio interface\n",
        "iface = gr.Interface(fn=predict_mri,\n",
        "                     inputs=gr.inputs.Image(shape=(240, 240), label=\"Upload MRI Image\"),\n",
        "                     outputs=gr.outputs.Text(label=\"Prediction\"),\n",
        "                     title=\"MRI Tumor Detection\",\n",
        "                     description=\"This app predicts whether MRI images are tumorous or not. Upload an MRI image to get started.\")\n",
        "\n",
        "# Launch the app\n",
        "iface.launch()\n"
      ],
      "metadata": {
        "id": "vOkSMA_ge59y"
      },
      "id": "vOkSMA_ge59y",
      "execution_count": null,
      "outputs": []
    }
  ],
  "metadata": {
    "kernelspec": {
      "display_name": "Python 3",
      "name": "python3"
    },
    "language_info": {
      "codemirror_mode": {
        "name": "ipython",
        "version": 3
      },
      "file_extension": ".py",
      "mimetype": "text/x-python",
      "name": "python",
      "nbconvert_exporter": "python",
      "pygments_lexer": "ipython3",
      "version": "3.8.5"
    },
    "colab": {
      "provenance": [],
      "machine_shape": "hm",
      "gpuType": "T4"
    },
    "accelerator": "GPU"
  },
  "nbformat": 4,
  "nbformat_minor": 5
}