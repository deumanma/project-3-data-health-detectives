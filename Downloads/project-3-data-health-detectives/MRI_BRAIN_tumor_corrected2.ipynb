{
  "cells": [
    {
      "cell_type": "code",
      "execution_count": null,
      "id": "21302815",
      "metadata": {
        "id": "21302815"
      },
      "outputs": [],
      "source": [
        "import pandas as pd\n",
        "import numpy as np\n",
        "import matplotlib.pyplot as plt\n",
        "import os, shutil\n",
        "import cv2\n",
        "import matplotlib.image as mpimg\n",
        "import seaborn as sns\n",
        "%matplotlib inline\n",
        "plt.style.use('ggplot')"
      ]
    },
    {
      "cell_type": "code",
      "execution_count": null,
      "id": "b5ec71dd",
      "metadata": {
        "id": "b5ec71dd"
      },
      "outputs": [],
      "source": [
        "# Dataset\n",
        "import zipfile\n",
        "\n",
        "z = zipfile.ZipFile('archive.zip')\n",
        "\n",
        "z.extractall()"
      ]
    },
    {
      "cell_type": "code",
      "execution_count": null,
      "id": "a018ad1a",
      "metadata": {
        "colab": {
          "base_uri": "https://localhost:8080/"
        },
        "id": "a018ad1a",
        "outputId": "78de17bf-a65b-4c90-e46c-7e278acb21eb"
      },
      "outputs": [
        {
          "output_type": "stream",
          "name": "stdout",
          "text": [
            "All files are renamed in the yes dir.\n"
          ]
        }
      ],
      "source": [
        "folder = 'brain_tumor_dataset/yes/'\n",
        "count = 1\n",
        "\n",
        "for filename in os.listdir(folder):\n",
        "    source = folder + filename\n",
        "    destination = folder + \"Y_\" +str(count)+\".jpg\"\n",
        "    os.rename(source, destination)\n",
        "    count+=1\n",
        "print(\"All files are renamed in the yes dir.\")"
      ]
    },
    {
      "cell_type": "code",
      "execution_count": null,
      "id": "b6066946",
      "metadata": {
        "colab": {
          "base_uri": "https://localhost:8080/"
        },
        "id": "b6066946",
        "outputId": "40c80fb0-3e08-47d7-aba2-81450aba32aa"
      },
      "outputs": [
        {
          "output_type": "stream",
          "name": "stdout",
          "text": [
            "All files are renamed in the no dir.\n"
          ]
        }
      ],
      "source": [
        "folder = 'brain_tumor_dataset/no/'\n",
        "count = 1\n",
        "\n",
        "for filename in os.listdir(folder):\n",
        "    source = folder + filename\n",
        "    destination = folder + \"N_\" +str(count)+\".jpg\"\n",
        "    os.rename(source, destination)\n",
        "    count+=1\n",
        "print(\"All files are renamed in the no dir.\")"
      ]
    },
    {
      "cell_type": "code",
      "execution_count": null,
      "id": "2f9f8f85",
      "metadata": {
        "id": "2f9f8f85"
      },
      "outputs": [],
      "source": [
        "# EDA(Exploratory Data Analysis)"
      ]
    },
    {
      "cell_type": "code",
      "execution_count": null,
      "id": "3fcefd1e",
      "metadata": {
        "colab": {
          "base_uri": "https://localhost:8080/"
        },
        "id": "3fcefd1e",
        "outputId": "edcf8c88-2827-4382-bf6c-cc1f4ae45d4f"
      },
      "outputs": [
        {
          "output_type": "stream",
          "name": "stdout",
          "text": [
            "155\n",
            "98\n"
          ]
        }
      ],
      "source": [
        "listyes = os.listdir(\"brain_tumor_dataset/yes/\")\n",
        "number_files_yes = len(listyes)\n",
        "print(number_files_yes)\n",
        "\n",
        "listno = os.listdir(\"brain_tumor_dataset/no/\")\n",
        "number_files_no = len(listno)\n",
        "print(number_files_no)"
      ]
    },
    {
      "cell_type": "code",
      "execution_count": null,
      "id": "382182c5",
      "metadata": {
        "id": "382182c5"
      },
      "outputs": [],
      "source": [
        "# Plot"
      ]
    },
    {
      "cell_type": "code",
      "execution_count": null,
      "id": "35d28e81",
      "metadata": {
        "colab": {
          "base_uri": "https://localhost:8080/",
          "height": 646
        },
        "id": "35d28e81",
        "outputId": "b24f00ff-6371-4c36-8846-e7b8fbf8d361"
      },
      "outputs": [
        {
          "output_type": "display_data",
          "data": {
            "text/plain": [
              "<Figure size 500x700 with 1 Axes>"
            ],
            "image/png": "[encoded data removed]"
          },
          "metadata": {}
        }
      ],
      "source": [
        "data = {'tumorous': number_files_yes, 'non-tumorous': number_files_no}\n",
        "\n",
        "typex = data.keys()\n",
        "values = data.values()\n",
        "\n",
        "fig = plt.figure(figsize=(5,7))\n",
        "\n",
        "plt.bar(typex, values, color=\"red\")\n",
        "\n",
        "plt.xlabel(\"Data\")\n",
        "plt.ylabel(\"No of Brain Tumor Images\")\n",
        "plt.title(\"Count of Brain Tumor Images\")\n",
        "plt.show()"
      ]
    },
    {
      "cell_type": "code",
      "execution_count": null,
      "id": "58febde6",
      "metadata": {
        "id": "58febde6"
      },
      "outputs": [],
      "source": [
        "# Data Augmentation\n",
        "# 155(61%), 98(39%)\n",
        "# imbalance"
      ]
    },
    {
      "cell_type": "code",
      "execution_count": null,
      "id": "3a56a756",
      "metadata": {
        "id": "3a56a756"
      },
      "outputs": [],
      "source": [
        "import tensorflow as tf\n",
        "from tensorflow.keras.preprocessing.image import ImageDataGenerator\n",
        "from tensorflow.keras.models import Model\n",
        "from tensorflow.keras.layers import Flatten, Dense, Dropout\n",
        "from tensorflow.keras.applications.vgg19 import VGG19\n",
        "from tensorflow.keras.optimizers import SGD, Adam\n",
        "from tensorflow.keras.callbacks import ModelCheckpoint, EarlyStopping, ReduceLROnPlateau"
      ]
    },
    {
      "cell_type": "code",
      "execution_count": null,
      "id": "b1498e40",
      "metadata": {
        "id": "b1498e40"
      },
      "outputs": [],
      "source": [
        "def timing(sec_elapsed):\n",
        "    h = int(sec_elapsed / (60*60))\n",
        "    m = int(sec_elapsed % (60*60) / 60)\n",
        "    s = sec_elapsed % 60\n",
        "    return f\"{h}:{m}:{s}\""
      ]
    },
    {
      "cell_type": "code",
      "execution_count": null,
      "id": "-4fcaCdgPX1g",
      "metadata": {
        "id": "-4fcaCdgPX1g"
      },
      "outputs": [],
      "source": [
        "from tensorflow.keras.preprocessing.image import ImageDataGenerator, img_to_array, load_img\n",
        "import os\n",
        "\n",
        "def augmented_data(file_dir, n_generated_samples, save_to_dir):\n",
        "    datagen = ImageDataGenerator(\n",
        "        rescale=1./255,\n",
        "        rotation_range=40,\n",
        "        width_shift_range=0.2,\n",
        "        height_shift_range=0.2,\n",
        "        shear_range=0.2,\n",
        "        zoom_range=0.2,\n",
        "        horizontal_flip=True,\n",
        "        fill_mode='nearest'\n",
        "    )\n",
        "\n",
        "    if not os.path.exists(save_to_dir):\n",
        "        os.makedirs(save_to_dir)\n",
        "\n",
        "    for img_file in os.listdir(file_dir):\n",
        "        img_path = os.path.join(file_dir, img_file)\n",
        "        img = load_img(img_path)  # Load image\n",
        "        img = img.resize((240, 240))  # Resize image if needed\n",
        "        x = img_to_array(img)  # Convert to numpy array\n",
        "        x = x.reshape((1,) + x.shape)  # Reshape\n",
        "\n",
        "        i = 0\n",
        "        for batch in datagen.flow(x, batch_size=1, save_to_dir=save_to_dir, save_prefix='aug', save_format='jpeg'):\n",
        "            i += 1\n",
        "            if i >= n_generated_samples:\n",
        "                break\n"
      ]
    },
    {
      "cell_type": "code",
      "execution_count": null,
      "id": "bA5wI9s7Pbtv",
      "metadata": {
        "colab": {
          "base_uri": "https://localhost:8080/"
        },
        "id": "bA5wI9s7Pbtv",
        "outputId": "257f1484-6fec-425c-d0b0-374ffb6ff0a9"
      },
      "outputs": [
        {
          "output_type": "stream",
          "name": "stdout",
          "text": [
            "Execution time: 25.634565353393555 seconds\n"
          ]
        }
      ],
      "source": [
        "import time\n",
        "start_time = time.time()\n",
        "\n",
        "yes_path = 'brain_tumor_dataset/yes'\n",
        "no_path = 'brain_tumor_dataset/no'\n",
        "augmented_data_path = \"augmented_data/\"\n",
        "\n",
        "# Example usage; adjust n_generated_samples based on your specific balance goals\n",
        "augmented_data(file_dir=yes_path, n_generated_samples=7, save_to_dir=augmented_data_path + 'yes')  # For \"yes\" class\n",
        "augmented_data(file_dir=no_path, n_generated_samples=10, save_to_dir=augmented_data_path + 'no')  # For \"no\" class\n",
        "\n",
        "end_time = time.time()\n",
        "execution_time = end_time - start_time\n",
        "print(f\"Execution time: {execution_time} seconds\")\n"
      ]
    },
    {
      "cell_type": "code",
      "execution_count": null,
      "id": "l3r_MIOyPfQX",
      "metadata": {
        "colab": {
          "base_uri": "https://localhost:8080/"
        },
        "id": "l3r_MIOyPfQX",
        "outputId": "6c19bc70-43ac-4eb6-f2cb-87c6e3f54dc4"
      },
      "outputs": [
        {
          "output_type": "stream",
          "name": "stdout",
          "text": [
            "Number of sample: 1965\n",
            "1031 Number of positive sample in percentage: 52.468193384223916%\n",
            "934 Number of negative sample in percentage: 47.531806615776084%\n"
          ]
        }
      ],
      "source": [
        "def data_summary(main_path):\n",
        "    yes_path = os.path.join(main_path, \"yes/\")\n",
        "    no_path = os.path.join(main_path, \"no/\")\n",
        "\n",
        "    n_pos = len(os.listdir(yes_path))\n",
        "    n_neg = len(os.listdir(no_path))\n",
        "\n",
        "    n = (n_pos + n_neg)\n",
        "\n",
        "    pos_per = (n_pos * 100) / n\n",
        "    neg_per = (n_neg * 100) / n\n",
        "\n",
        "    print(f\"Number of sample: {n}\")\n",
        "    print(f\"{n_pos} Number of positive sample in percentage: {pos_per}%\")\n",
        "    print(f\"{n_neg} Number of negative sample in percentage: {neg_per}%\")\n",
        "\n",
        "data_summary(augmented_data_path)\n"
      ]
    },
    {
      "cell_type": "code",
      "execution_count": null,
      "id": "930c420c",
      "metadata": {
        "colab": {
          "base_uri": "https://localhost:8080/"
        },
        "id": "930c420c",
        "outputId": "ab0af4c4-4899-4ec2-f67e-1f9a2917ac24"
      },
      "outputs": [
        {
          "output_type": "stream",
          "name": "stdout",
          "text": [
            "1031\n",
            "934\n"
          ]
        }
      ],
      "source": [
        "listyes = os.listdir(\"augmented_data/yes/\")\n",
        "number_files_yes = len(listyes)\n",
        "print(number_files_yes)\n",
        "\n",
        "listno = os.listdir(\"augmented_data/no/\")\n",
        "number_files_no = len(listno)\n",
        "print(number_files_no)"
      ]
    },
    {
      "cell_type": "code",
      "execution_count": null,
      "id": "d535d0c3",
      "metadata": {
        "colab": {
          "base_uri": "https://localhost:8080/",
          "height": 646
        },
        "id": "d535d0c3",
        "outputId": "e8a9ec17-e53d-43d8-969c-60b551ec2aea"
      },
      "outputs": [
        {
          "output_type": "display_data",
          "data": {
            "text/plain": [
              "<Figure size 500x700 with 1 Axes>"
            ],
            "image/png": "[encoded data removed]"
          },
          "metadata": {}
        }
      ],
      "source": [
        "data = {'tumorous': number_files_yes, 'non-tumorous': number_files_no}\n",
        "\n",
        "typex = data.keys()\n",
        "values = data.values()\n",
        "\n",
        "fig = plt.figure(figsize=(5,7))\n",
        "\n",
        "plt.bar(typex, values, color=\"red\")\n",
        "\n",
        "plt.xlabel(\"Data\")\n",
        "plt.ylabel(\"No of Brain Tumor Images\")\n",
        "plt.title(\"Count of Brain Tumor Images\")\n",
        "plt.show()"
      ]
    },
    {
      "cell_type": "code",
      "execution_count": null,
      "id": "14b3df86",
      "metadata": {
        "id": "14b3df86"
      },
      "outputs": [],
      "source": [
        "# Data Preprocessing"
      ]
    },
    {
      "cell_type": "code",
      "execution_count": null,
      "id": "7d91bf16",
      "metadata": {
        "id": "7d91bf16"
      },
      "outputs": [],
      "source": [
        "# Convert BGR TO GRAY\n",
        "# GaussianBlur\n",
        "# Threshold\n",
        "# Erode\n",
        "# Dilate\n",
        "# Find Contours"
      ]
    },
    {
      "cell_type": "code",
      "execution_count": null,
      "id": "0576e87c",
      "metadata": {
        "id": "0576e87c"
      },
      "outputs": [],
      "source": [
        "import imutils\n",
        "def crop_brain_tumor(image, plot=False):\n",
        "    gray = cv2.cvtColor(image, cv2.COLOR_BGR2GRAY)\n",
        "    gray = cv2.GaussianBlur(gray, (5,5), 0)\n",
        "\n",
        "    thres = cv2.threshold(gray, 45, 255, cv2.THRESH_BINARY)[1]\n",
        "    thres =cv2.erode(thres, None, iterations = 2)\n",
        "    thres = cv2.dilate(thres, None, iterations = 2)\n",
        "\n",
        "    cnts = cv2.findContours(thres.copy(), cv2.RETR_EXTERNAL, cv2.CHAIN_APPROX_SIMPLE)\n",
        "    cnts = imutils.grab_contours(cnts)\n",
        "    c = max(cnts, key = cv2.contourArea)\n",
        "\n",
        "    extLeft = tuple(c[c[:,:,0].argmin()][0])\n",
        "    extRight = tuple(c[c[:,:,0].argmax()][0])\n",
        "    extTop = tuple(c[c[:,:,1].argmin()][0])\n",
        "    extBot = tuple(c[c[:,:,1].argmax()][0])\n",
        "\n",
        "    new_image = image[extTop[1]:extBot[1], extLeft[0]:extRight[0]]\n",
        "\n",
        "    if plot:\n",
        "        plt.figure()\n",
        "        plt.subplot(1, 2, 1)\n",
        "        plt.imshow(image)\n",
        "\n",
        "        plt.tick_params(axis='both', which='both',\n",
        "                        top=False, bottom=False, left=False, right=False,\n",
        "                        labelbottom=False, labeltop=False, labelleft=False, labelright=False)\n",
        "\n",
        "        plt.title('Original Image')\n",
        "\n",
        "        plt.subplot(1, 2, 2)\n",
        "        plt.imshow(new_image)\n",
        "\n",
        "        plt.tick_params(axis='both', which='both',\n",
        "                        top=False, bottom=False, left=False, right=False,\n",
        "                        labelbottom=False, labeltop=False, labelleft=False, labelright=False)\n",
        "\n",
        "        plt.title('Cropped Image')\n",
        "        plt.show()\n",
        "    return new_image\n"
      ]
    },
    {
      "cell_type": "code",
      "execution_count": null,
      "id": "684dd5b1",
      "metadata": {
        "colab": {
          "base_uri": "https://localhost:8080/",
          "height": 297
        },
        "id": "684dd5b1",
        "outputId": "f4e02fbf-8a28-4ec4-e617-aba40bf40f8e"
      },
      "outputs": [
        {
          "output_type": "error",
          "ename": "error",
          "evalue": "OpenCV(4.8.0) /io/opencv/modules/imgproc/src/color.cpp:182: error: (-215:Assertion failed) !_src.empty() in function 'cvtColor'\n",
          "traceback": [
            "\u001b[0;31m---------------------------------------------------------------------------\u001b[0m",
            "\u001b[0;31merror\u001b[0m                                     Traceback (most recent call last)",
            "\u001b[0;32m<ipython-input-20-da368cc09f6c>\u001b[0m in \u001b[0;36m<cell line: 2>\u001b[0;34m()\u001b[0m\n\u001b[1;32m      1\u001b[0m \u001b[0mimg\u001b[0m \u001b[0;34m=\u001b[0m \u001b[0mcv2\u001b[0m\u001b[0;34m.\u001b[0m\u001b[0mimread\u001b[0m\u001b[0;34m(\u001b[0m\u001b[0;34m'augmented_data/yes/aug_0_1.jpeg'\u001b[0m\u001b[0;34m)\u001b[0m\u001b[0;34m\u001b[0m\u001b[0;34m\u001b[0m\u001b[0m\n\u001b[0;32m----> 2\u001b[0;31m \u001b[0mcrop_brain_tumor\u001b[0m\u001b[0;34m(\u001b[0m\u001b[0mimg\u001b[0m\u001b[0;34m,\u001b[0m \u001b[0;32mTrue\u001b[0m\u001b[0;34m)\u001b[0m\u001b[0;34m\u001b[0m\u001b[0;34m\u001b[0m\u001b[0m\n\u001b[0m",
            "\u001b[0;32m<ipython-input-19-a847b5584262>\u001b[0m in \u001b[0;36mcrop_brain_tumor\u001b[0;34m(image, plot)\u001b[0m\n\u001b[1;32m      1\u001b[0m \u001b[0;32mimport\u001b[0m \u001b[0mimutils\u001b[0m\u001b[0;34m\u001b[0m\u001b[0;34m\u001b[0m\u001b[0m\n\u001b[1;32m      2\u001b[0m \u001b[0;32mdef\u001b[0m \u001b[0mcrop_brain_tumor\u001b[0m\u001b[0;34m(\u001b[0m\u001b[0mimage\u001b[0m\u001b[0;34m,\u001b[0m \u001b[0mplot\u001b[0m\u001b[0;34m=\u001b[0m\u001b[0;32mFalse\u001b[0m\u001b[0;34m)\u001b[0m\u001b[0;34m:\u001b[0m\u001b[0;34m\u001b[0m\u001b[0;34m\u001b[0m\u001b[0m\n\u001b[0;32m----> 3\u001b[0;31m     \u001b[0mgray\u001b[0m \u001b[0;34m=\u001b[0m \u001b[0mcv2\u001b[0m\u001b[0;34m.\u001b[0m\u001b[0mcvtColor\u001b[0m\u001b[0;34m(\u001b[0m\u001b[0mimage\u001b[0m\u001b[0;34m,\u001b[0m \u001b[0mcv2\u001b[0m\u001b[0;34m.\u001b[0m\u001b[0mCOLOR_BGR2GRAY\u001b[0m\u001b[0;34m)\u001b[0m\u001b[0;34m\u001b[0m\u001b[0;34m\u001b[0m\u001b[0m\n\u001b[0m\u001b[1;32m      4\u001b[0m     \u001b[0mgray\u001b[0m \u001b[0;34m=\u001b[0m \u001b[0mcv2\u001b[0m\u001b[0;34m.\u001b[0m\u001b[0mGaussianBlur\u001b[0m\u001b[0;34m(\u001b[0m\u001b[0mgray\u001b[0m\u001b[0;34m,\u001b[0m \u001b[0;34m(\u001b[0m\u001b[0;36m5\u001b[0m\u001b[0;34m,\u001b[0m\u001b[0;36m5\u001b[0m\u001b[0;34m)\u001b[0m\u001b[0;34m,\u001b[0m \u001b[0;36m0\u001b[0m\u001b[0;34m)\u001b[0m\u001b[0;34m\u001b[0m\u001b[0;34m\u001b[0m\u001b[0m\n\u001b[1;32m      5\u001b[0m \u001b[0;34m\u001b[0m\u001b[0m\n",
            "\u001b[0;31merror\u001b[0m: OpenCV(4.8.0) /io/opencv/modules/imgproc/src/color.cpp:182: error: (-215:Assertion failed) !_src.empty() in function 'cvtColor'\n"
          ]
        }
      ],
      "source": [
        "img = cv2.imread('augmented_data/yes/aug_0_1.jpeg')\n",
        "crop_brain_tumor(img, True)"
      ]
    },
    {
      "cell_type": "code",
      "execution_count": null,
      "id": "5a27ddf2",
      "metadata": {
        "id": "5a27ddf2"
      },
      "outputs": [],
      "source": [
        "img = cv2.imread('augmented_data/no/aug_N_1_0_109.jpg')\n",
        "crop_brain_tumor(img, True)"
      ]
    },
    {
      "cell_type": "code",
      "execution_count": null,
      "id": "6d4ca9d2",
      "metadata": {
        "id": "6d4ca9d2"
      },
      "outputs": [],
      "source": [
        "folder1 = 'augmented_data/no/'\n",
        "folder2 = 'augmented_data/yes/'\n",
        "\n",
        "for filename in os.listdir(folder1):\n",
        "    img = cv2.imread(folder1 + filename)\n",
        "    img = crop_brain_tumor(img, False)\n",
        "    cv2.imwrite(folder1 + filename, img)\n",
        "for filename in os.listdir(folder2):\n",
        "    img = cv2.imread(folder2 + filename)\n",
        "    img = crop_brain_tumor(img, False)\n",
        "    cv2.imwrite(folder2 + filename, img)"
      ]
    },
    {
      "cell_type": "code",
      "execution_count": null,
      "id": "689e8158",
      "metadata": {
        "id": "689e8158"
      },
      "outputs": [],
      "source": []
    },
    {
      "cell_type": "code",
      "execution_count": null,
      "id": "e409128d",
      "metadata": {
        "id": "e409128d"
      },
      "outputs": [],
      "source": [
        "# image loading"
      ]
    },
    {
      "cell_type": "code",
      "execution_count": null,
      "id": "b49efa95",
      "metadata": {
        "id": "b49efa95"
      },
      "outputs": [],
      "source": [
        "from sklearn.utils import shuffle\n",
        "def load_data(dir_list, image_size):\n",
        "    X=[]\n",
        "    y=[]\n",
        "\n",
        "    image_width, image_height=image_size\n",
        "\n",
        "    for directory in dir_list:\n",
        "        for filename in os.listdir(directory):\n",
        "            image = cv2.imread(directory + '/' + filename)\n",
        "            image = crop_brain_tumor(image, plot=False)\n",
        "            image = cv2.resize(image, dsize=(image_width, image_height), interpolation = cv2.INTER_CUBIC)\n",
        "            image = image/255.00\n",
        "            X.append(image)\n",
        "            if directory[-3:] == \"yes\":\n",
        "                y.append(1)\n",
        "            else:\n",
        "                y.append(0)\n",
        "    X=np.array(X)\n",
        "    y=np.array(y)\n",
        "\n",
        "    X,y = shuffle(X,y)\n",
        "    print(f\"Number of example is : {len(X)}\")\n",
        "    print(f\"X SHAPE is : {X.shape}\")\n",
        "    print(f\"y SHAPE is : {y.shape}\")\n",
        "    return X,y\n"
      ]
    },
    {
      "cell_type": "code",
      "execution_count": null,
      "id": "aa0b69a2",
      "metadata": {
        "colab": {
          "base_uri": "https://localhost:8080/"
        },
        "id": "aa0b69a2",
        "outputId": "bde8deb0-eae6-43e4-c9ec-c02d6195bac5"
      },
      "outputs": [
        {
          "output_type": "stream",
          "name": "stdout",
          "text": [
            "Number of example is : 1965\n",
            "X SHAPE is : (1965, 240, 240, 3)\n",
            "y SHAPE is : (1965,)\n"
          ]
        }
      ],
      "source": [
        "augmented_path = 'augmented_data/'\n",
        "augmeneted_yes = augmented_path + 'yes'\n",
        "augmeneted_no = augmented_path + 'no'\n",
        "\n",
        "IMAGE_WIDTH, IMAGE_HEIGHT = (240,240)\n",
        "\n",
        "X,y = load_data([augmeneted_yes, augmeneted_no], (IMAGE_WIDTH, IMAGE_HEIGHT))"
      ]
    },
    {
      "cell_type": "code",
      "execution_count": null,
      "id": "f153af34",
      "metadata": {
        "id": "f153af34"
      },
      "outputs": [],
      "source": [
        "def plot_sample_images(X, y, n=50):\n",
        "\n",
        "    for label in [0,1]:\n",
        "        images = X[np.argwhere(y == label)]\n",
        "        n_images = images[:n]\n",
        "\n",
        "        columns_n = 10\n",
        "        rows_n = int(n/ columns_n)\n",
        "\n",
        "        plt.figure(figsize=(20, 10))\n",
        "\n",
        "        i = 1\n",
        "        for image in n_images:\n",
        "            plt.subplot(rows_n, columns_n, i)\n",
        "            plt.imshow(image[0])\n",
        "\n",
        "            plt.tick_params(axis='both', which='both',\n",
        "                            top=False, bottom=False, left=False, right=False,\n",
        "                            labelbottom=False, labeltop=False, labelleft=False,\n",
        "                            labelright=False)\n",
        "\n",
        "            i += 1\n",
        "\n",
        "        label_to_str = lambda label: \"Yes\" if label == 1 else \"No\"\n",
        "        plt.suptitle(f\"Brain Tumor: {label_to_str(label)}\")\n",
        "        plt.show()"
      ]
    },
    {
      "cell_type": "code",
      "execution_count": null,
      "id": "5c497096",
      "metadata": {
        "id": "5c497096"
      },
      "outputs": [],
      "source": [
        "plot_sample_images(X,y)"
      ]
    },
    {
      "cell_type": "code",
      "execution_count": null,
      "id": "15293708",
      "metadata": {
        "id": "15293708"
      },
      "outputs": [],
      "source": [
        "# Data Spliting\n",
        "# Train\n",
        "# Test\n",
        "# Validation"
      ]
    },
    {
      "cell_type": "code",
      "execution_count": null,
      "id": "HU3qYqfnJ-bd",
      "metadata": {
        "id": "HU3qYqfnJ-bd"
      },
      "outputs": [],
      "source": [
        "import os\n",
        "import shutil\n",
        "from sklearn.model_selection import train_test_split\n",
        "\n",
        "# Define the paths\n",
        "base_dir = \"augmented_data\"\n",
        "categories = [\"yes\", \"no\"]\n",
        "\n",
        "train_dir = os.path.join(base_dir, \"train\")\n",
        "test_dir = os.path.join(base_dir, \"test\")\n",
        "valid_dir = os.path.join(base_dir, \"validation\")\n",
        "\n",
        "# Make sure the directories exist\n",
        "for dir in [train_dir, test_dir, valid_dir]:\n",
        "    for category in categories:\n",
        "        os.makedirs(os.path.join(dir, category), exist_ok=True)\n",
        "\n",
        "def split_data(category):\n",
        "    files = os.listdir(os.path.join(base_dir, category))\n",
        "    train_files, test_files = train_test_split(files, test_size=0.2, random_state=42)\n",
        "    test_files, valid_files = train_test_split(test_files, test_size=0.5, random_state=42)\n",
        "\n",
        "    # Copy files to their respective directories\n",
        "    for file in train_files:\n",
        "        shutil.copyfile(os.path.join(base_dir, category, file),\n",
        "                        os.path.join(train_dir, category, file))\n",
        "\n",
        "    for file in test_files:\n",
        "        shutil.copyfile(os.path.join(base_dir, category, file),\n",
        "                        os.path.join(test_dir, category, file))\n",
        "\n",
        "    for file in valid_files:\n",
        "        shutil.copyfile(os.path.join(base_dir, category, file),\n",
        "                        os.path.join(valid_dir, category, file))\n",
        "\n",
        "# Apply the function to both categories\n",
        "for category in categories:\n",
        "    split_data(category)\n"
      ]
    },
    {
      "cell_type": "markdown",
      "id": "gzKA50PnLv6v",
      "metadata": {
        "id": "gzKA50PnLv6v"
      },
      "source": [
        "use ImageDataGenerator class is a convenient tool for loading and augmenting image data directly from directories."
      ]
    },
    {
      "cell_type": "code",
      "execution_count": null,
      "id": "rRHu3tjbLsWX",
      "metadata": {
        "colab": {
          "base_uri": "https://localhost:8080/"
        },
        "id": "rRHu3tjbLsWX",
        "outputId": "55d06a17-5dcb-4e4c-b803-73b50eaa5c0b"
      },
      "outputs": [
        {
          "output_type": "stream",
          "name": "stdout",
          "text": [
            "Found 1571 images belonging to 2 classes.\n",
            "Found 198 images belonging to 2 classes.\n"
          ]
        }
      ],
      "source": [
        "from tensorflow.keras.preprocessing.image import ImageDataGenerator\n",
        "\n",
        "train_dir = 'augmented_data/train'\n",
        "validation_dir = 'augmented_data/validation'\n",
        "test_dir = 'augmented_data/test'\n",
        "\n",
        "# Rescale pixel values from [0, 255] to [0, 1]\n",
        "train_datagen = ImageDataGenerator(rescale=1./255)\n",
        "test_datagen = ImageDataGenerator(rescale=1./255)\n",
        "\n",
        "# Automatically fetch images from the directories, assuming binary classification\n",
        "train_generator = train_datagen.flow_from_directory(\n",
        "        train_dir,\n",
        "        target_size=(150, 150),  # Resize images\n",
        "        batch_size=20,\n",
        "        class_mode='binary')  # because you use binary_crossentropy loss\n",
        "\n",
        "validation_generator = test_datagen.flow_from_directory(\n",
        "        validation_dir,\n",
        "        target_size=(150, 150),\n",
        "        batch_size=20,\n",
        "        class_mode='binary')\n",
        "\n"
      ]
    },
    {
      "cell_type": "markdown",
      "id": "Zuw6HRtBMC_8",
      "metadata": {
        "id": "Zuw6HRtBMC_8"
      },
      "source": [
        "build the model"
      ]
    },
    {
      "cell_type": "code",
      "execution_count": null,
      "id": "MePuo7zHL6bP",
      "metadata": {
        "colab": {
          "base_uri": "https://localhost:8080/"
        },
        "id": "MePuo7zHL6bP",
        "outputId": "8f293800-6efe-43fb-84f7-00b463d46af6"
      },
      "outputs": [
        {
          "output_type": "stream",
          "name": "stdout",
          "text": [
            "Model: \"sequential\"\n",
            "_________________________________________________________________\n",
            " Layer (type)                Output Shape              Param #   \n",
            "=================================================================\n",
            " conv2d (Conv2D)             (None, 148, 148, 32)      896       \n",
            "                                                                 \n",
            " max_pooling2d (MaxPooling2  (None, 74, 74, 32)        0         \n",
            " D)                                                              \n",
            "                                                                 \n",
            " conv2d_1 (Conv2D)           (None, 72, 72, 64)        18496     \n",
            "                                                                 \n",
            " max_pooling2d_1 (MaxPoolin  (None, 36, 36, 64)        0         \n",
            " g2D)                                                            \n",
            "                                                                 \n",
            " conv2d_2 (Conv2D)           (None, 34, 34, 128)       73856     \n",
            "                                                                 \n",
            " max_pooling2d_2 (MaxPoolin  (None, 17, 17, 128)       0         \n",
            " g2D)                                                            \n",
            "                                                                 \n",
            " conv2d_3 (Conv2D)           (None, 15, 15, 128)       147584    \n",
            "                                                                 \n",
            " max_pooling2d_3 (MaxPoolin  (None, 7, 7, 128)         0         \n",
            " g2D)                                                            \n",
            "                                                                 \n",
            " flatten (Flatten)           (None, 6272)              0         \n",
            "                                                                 \n",
            " dropout (Dropout)           (None, 6272)              0         \n",
            "                                                                 \n",
            " dense (Dense)               (None, 512)               3211776   \n",
            "                                                                 \n",
            " dense_1 (Dense)             (None, 1)                 513       \n",
            "                                                                 \n",
            "=================================================================\n",
            "Total params: 3453121 (13.17 MB)\n",
            "Trainable params: 3453121 (13.17 MB)\n",
            "Non-trainable params: 0 (0.00 Byte)\n",
            "_________________________________________________________________\n"
          ]
        }
      ],
      "source": [
        "from tensorflow.keras import layers\n",
        "from tensorflow.keras import models\n",
        "\n",
        "model = models.Sequential()\n",
        "model.add(layers.Conv2D(32, (3, 3), activation='relu', input_shape=(150, 150, 3)))\n",
        "model.add(layers.MaxPooling2D((2, 2)))\n",
        "model.add(layers.Conv2D(64, (3, 3), activation='relu'))\n",
        "model.add(layers.MaxPooling2D((2, 2)))\n",
        "model.add(layers.Conv2D(128, (3, 3), activation='relu'))\n",
        "model.add(layers.MaxPooling2D((2, 2)))\n",
        "model.add(layers.Conv2D(128, (3, 3), activation='relu'))\n",
        "model.add(layers.MaxPooling2D((2, 2)))\n",
        "model.add(layers.Flatten())\n",
        "model.add(layers.Dropout(0.5))  # Dropout for regularization\n",
        "model.add(layers.Dense(512, activation='relu'))\n",
        "model.add(layers.Dense(1, activation='sigmoid'))  # Sigmoid for binary classification\n",
        "\n",
        "model.compile(loss='binary_crossentropy',\n",
        "              optimizer='adam',\n",
        "              metrics=['accuracy'])\n",
        "\n",
        "\n",
        "model.summary()\n"
      ]
    },
    {
      "cell_type": "markdown",
      "id": "6fcCMcHuOUqe",
      "metadata": {
        "id": "6fcCMcHuOUqe"
      },
      "source": [
        "Implement ModelCheckpoint and EarlyStopping Callbacks"
      ]
    },
    {
      "cell_type": "code",
      "execution_count": null,
      "id": "sa3z_5LZOTzj",
      "metadata": {
        "id": "sa3z_5LZOTzj"
      },
      "outputs": [],
      "source": [
        "from tensorflow.keras.callbacks import EarlyStopping, ModelCheckpoint\n",
        "\n",
        "# EarlyStopping to halt training when validation loss stops improving\n",
        "early_stopping = EarlyStopping(monitor='val_loss', patience=10, verbose=1)\n",
        "\n",
        "# ModelCheckpoint to save the best model based on validation accuracy\n",
        "\n",
        "model_checkpoint = ModelCheckpoint(filepath='best_model.h5', monitor='val_accuracy', save_best_only=True, verbose=1)\n",
        "callbacks = [early_stopping, model_checkpoint]\n"
      ]
    },
    {
      "cell_type": "markdown",
      "id": "Mj5HGGYuMH9h",
      "metadata": {
        "id": "Mj5HGGYuMH9h"
      },
      "source": [
        "Train Your Model\n",
        "Now, you can train the model using the data provided by the train_generator and validate it using the validation_generator."
      ]
    },
    {
      "cell_type": "code",
      "execution_count": null,
      "id": "tHrhbzDOMGyG",
      "metadata": {
        "colab": {
          "base_uri": "https://localhost:8080/"
        },
        "id": "tHrhbzDOMGyG",
        "outputId": "cadfd7bf-d65c-443d-f09f-1143a14aafa3"
      },
      "outputs": [
        {
          "output_type": "stream",
          "name": "stdout",
          "text": [
            "Epoch 1/100\n",
            "76/78 [============================>.] - ETA: 0s - loss: 0.6510 - accuracy: 0.6300\n",
            "Epoch 1: val_accuracy improved from -inf to 0.72222, saving model to best_model.h5\n",
            "78/78 [==============================] - 9s 30ms/step - loss: 0.6535 - accuracy: 0.6273 - val_loss: 0.6009 - val_accuracy: 0.7222\n",
            "Epoch 2/100\n",
            " 1/78 [..............................] - ETA: 3s - loss: 0.6405 - accuracy: 0.7000"
          ]
        },
        {
          "output_type": "stream",
          "name": "stderr",
          "text": [
            "/usr/local/lib/python3.10/dist-packages/keras/src/engine/training.py:3103: UserWarning: You are saving your model as an HDF5 file via `model.save()`. This file format is considered legacy. We recommend using instead the native Keras format, e.g. `model.save('my_model.keras')`.\n",
            "  saving_api.save_model(\n"
          ]
        },
        {
          "output_type": "stream",
          "name": "stdout",
          "text": [
            "76/78 [============================>.] - ETA: 0s - loss: 0.5919 - accuracy: 0.6974\n",
            "Epoch 2: val_accuracy did not improve from 0.72222\n",
            "78/78 [==============================] - 2s 21ms/step - loss: 0.5968 - accuracy: 0.6936 - val_loss: 0.5678 - val_accuracy: 0.6944\n",
            "Epoch 3/100\n",
            "77/78 [============================>.] - ETA: 0s - loss: 0.5632 - accuracy: 0.6982\n",
            "Epoch 3: val_accuracy did not improve from 0.72222\n",
            "78/78 [==============================] - 2s 20ms/step - loss: 0.5636 - accuracy: 0.7002 - val_loss: 0.5556 - val_accuracy: 0.7056\n",
            "Epoch 4/100\n",
            "76/78 [============================>.] - ETA: 0s - loss: 0.5221 - accuracy: 0.7498\n",
            "Epoch 4: val_accuracy improved from 0.72222 to 0.76667, saving model to best_model.h5\n",
            "78/78 [==============================] - 2s 23ms/step - loss: 0.5197 - accuracy: 0.7498 - val_loss: 0.5004 - val_accuracy: 0.7667\n",
            "Epoch 5/100\n",
            "77/78 [============================>.] - ETA: 0s - loss: 0.4705 - accuracy: 0.7766\n",
            "Epoch 5: val_accuracy improved from 0.76667 to 0.77222, saving model to best_model.h5\n",
            "78/78 [==============================] - 2s 23ms/step - loss: 0.4714 - accuracy: 0.7769 - val_loss: 0.5209 - val_accuracy: 0.7722\n",
            "Epoch 6/100\n",
            "75/78 [===========================>..] - ETA: 0s - loss: 0.4537 - accuracy: 0.7867\n",
            "Epoch 6: val_accuracy improved from 0.77222 to 0.78333, saving model to best_model.h5\n",
            "78/78 [==============================] - 2s 22ms/step - loss: 0.4551 - accuracy: 0.7859 - val_loss: 0.5245 - val_accuracy: 0.7833\n",
            "Epoch 7/100\n",
            "76/78 [============================>.] - ETA: 0s - loss: 0.4216 - accuracy: 0.8074\n",
            "Epoch 7: val_accuracy improved from 0.78333 to 0.79444, saving model to best_model.h5\n",
            "78/78 [==============================] - 2s 22ms/step - loss: 0.4220 - accuracy: 0.8072 - val_loss: 0.4716 - val_accuracy: 0.7944\n",
            "Epoch 8/100\n",
            "76/78 [============================>.] - ETA: 0s - loss: 0.3840 - accuracy: 0.8233\n",
            "Epoch 8: val_accuracy did not improve from 0.79444\n",
            "78/78 [==============================] - 2s 21ms/step - loss: 0.3824 - accuracy: 0.8246 - val_loss: 0.5130 - val_accuracy: 0.7889\n",
            "Epoch 9/100\n",
            "75/78 [===========================>..] - ETA: 0s - loss: 0.3400 - accuracy: 0.8533\n",
            "Epoch 9: val_accuracy did not improve from 0.79444\n",
            "78/78 [==============================] - 2s 20ms/step - loss: 0.3404 - accuracy: 0.8524 - val_loss: 0.5752 - val_accuracy: 0.7889\n",
            "Epoch 10/100\n",
            "77/78 [============================>.] - ETA: 0s - loss: 0.2925 - accuracy: 0.8713\n",
            "Epoch 10: val_accuracy improved from 0.79444 to 0.81111, saving model to best_model.h5\n",
            "78/78 [==============================] - 2s 23ms/step - loss: 0.2972 - accuracy: 0.8691 - val_loss: 0.4884 - val_accuracy: 0.8111\n",
            "Epoch 11/100\n",
            "77/78 [============================>.] - ETA: 0s - loss: 0.2655 - accuracy: 0.8922\n",
            "Epoch 11: val_accuracy did not improve from 0.81111\n",
            "78/78 [==============================] - 2s 21ms/step - loss: 0.2661 - accuracy: 0.8904 - val_loss: 0.5147 - val_accuracy: 0.7889\n",
            "Epoch 12/100\n",
            "77/78 [============================>.] - ETA: 0s - loss: 0.2549 - accuracy: 0.8863\n",
            "Epoch 12: val_accuracy did not improve from 0.81111\n",
            "78/78 [==============================] - 2s 21ms/step - loss: 0.2559 - accuracy: 0.8859 - val_loss: 0.5432 - val_accuracy: 0.7889\n",
            "Epoch 13/100\n",
            "78/78 [==============================] - ETA: 0s - loss: 0.2217 - accuracy: 0.9084\n",
            "Epoch 13: val_accuracy did not improve from 0.81111\n",
            "78/78 [==============================] - 2s 21ms/step - loss: 0.2217 - accuracy: 0.9084 - val_loss: 0.5541 - val_accuracy: 0.8056\n",
            "Epoch 14/100\n",
            "77/78 [============================>.] - ETA: 0s - loss: 0.1545 - accuracy: 0.9373\n",
            "Epoch 14: val_accuracy improved from 0.81111 to 0.81667, saving model to best_model.h5\n",
            "78/78 [==============================] - 2s 22ms/step - loss: 0.1543 - accuracy: 0.9368 - val_loss: 0.5594 - val_accuracy: 0.8167\n",
            "Epoch 15/100\n",
            "78/78 [==============================] - ETA: 0s - loss: 0.1457 - accuracy: 0.9439\n",
            "Epoch 15: val_accuracy did not improve from 0.81667\n",
            "78/78 [==============================] - 2s 20ms/step - loss: 0.1457 - accuracy: 0.9439 - val_loss: 0.6878 - val_accuracy: 0.7722\n",
            "Epoch 16/100\n",
            "77/78 [============================>.] - ETA: 0s - loss: 0.1115 - accuracy: 0.9543\n",
            "Epoch 16: val_accuracy did not improve from 0.81667\n",
            "78/78 [==============================] - 2s 20ms/step - loss: 0.1122 - accuracy: 0.9536 - val_loss: 0.6073 - val_accuracy: 0.8056\n",
            "Epoch 17/100\n",
            "77/78 [============================>.] - ETA: 0s - loss: 0.1100 - accuracy: 0.9589\n",
            "Epoch 17: val_accuracy did not improve from 0.81667\n",
            "78/78 [==============================] - 2s 21ms/step - loss: 0.1094 - accuracy: 0.9587 - val_loss: 0.7391 - val_accuracy: 0.7833\n",
            "Epoch 17: early stopping\n"
          ]
        }
      ],
      "source": [
        "history = model.fit(\n",
        "    train_generator,\n",
        "    steps_per_epoch=train_generator.samples // train_generator.batch_size,  # Correctly calculates steps per epoch\n",
        "    epochs=100,\n",
        "    validation_data=validation_generator,\n",
        "    validation_steps=validation_generator.samples // validation_generator.batch_size,  # Correctly calculates validation steps\n",
        "    callbacks=[early_stopping, model_checkpoint],  # Includes both callbacks\n",
        "    verbose=1)\n",
        "\n"
      ]
    },
    {
      "cell_type": "code",
      "execution_count": null,
      "id": "D3DVYTEqMlOM",
      "metadata": {
        "id": "D3DVYTEqMlOM"
      },
      "outputs": [],
      "source": []
    },
    {
      "cell_type": "markdown",
      "id": "GlB-i5BmMltp",
      "metadata": {
        "id": "GlB-i5BmMltp"
      },
      "source": [
        "Step 5: Evaluate the Model"
      ]
    },
    {
      "cell_type": "code",
      "execution_count": null,
      "id": "FZhbnONFMnaI",
      "metadata": {
        "colab": {
          "base_uri": "https://localhost:8080/"
        },
        "id": "FZhbnONFMnaI",
        "outputId": "820d4aef-113f-471b-91f9-3af889017eb0"
      },
      "outputs": [
        {
          "output_type": "stream",
          "name": "stdout",
          "text": [
            "Found 196 images belonging to 2 classes.\n",
            "10/10 [==============================] - 0s 17ms/step - loss: 0.6686 - accuracy: 0.7653\n",
            "test acc: 0.7653061151504517\n"
          ]
        }
      ],
      "source": [
        "test_generator = test_datagen.flow_from_directory(\n",
        "        test_dir,\n",
        "        target_size=(150, 150),\n",
        "        batch_size=20,\n",
        "        class_mode='binary')\n",
        "\n",
        "# Calculate the correct number of steps to evaluate all test data\n",
        "# This ensures all images are used once during evaluation\n",
        "total_test_images = 195  # Total number of images in your test set\n",
        "batch_size = 20\n",
        "steps = total_test_images // batch_size\n",
        "\n",
        "if total_test_images % batch_size > 0:\n",
        "    steps += 1  # Add an extra step if there are leftover images\n",
        "\n",
        "test_loss, test_acc = model.evaluate(test_generator, steps=steps)\n",
        "print('test acc:', test_acc)\n"
      ]
    },
    {
      "cell_type": "markdown",
      "id": "yXqwtXZQRN71",
      "metadata": {
        "id": "yXqwtXZQRN71"
      },
      "source": [
        "#plot the Model loss and accurracy"
      ]
    },
    {
      "cell_type": "code",
      "execution_count": null,
      "id": "54Cx3A8wRK1W",
      "metadata": {
        "colab": {
          "base_uri": "https://localhost:8080/",
          "height": 889
        },
        "id": "54Cx3A8wRK1W",
        "outputId": "203af4c6-cc45-4bf6-9b3b-7c942a8b252b"
      },
      "outputs": [
        {
          "output_type": "display_data",
          "data": {
            "text/plain": [
              "<Figure size 640x480 with 1 Axes>"
            ],
            "image/png": "[encoded data removed]"
          },
          "metadata": {}
        },
        {
          "output_type": "display_data",
          "data": {
            "text/plain": [
              "<Figure size 640x480 with 1 Axes>"
            ],
            "image/png": "[encoded data removed]"
          },
          "metadata": {}
        }
      ],
      "source": [
        "import matplotlib.pyplot as plt\n",
        "\n",
        "# Assuming 'history' is the result of the 'fit' operation on your model\n",
        "acc = history.history['accuracy']\n",
        "val_acc = history.history['val_accuracy']\n",
        "loss = history.history['loss']\n",
        "val_loss = history.history['val_loss']\n",
        "\n",
        "epochs = range(1, len(acc) + 1)\n",
        "\n",
        "# Plot training and validation accuracy\n",
        "plt.plot(epochs, acc, 'bo', label='Training accuracy')\n",
        "plt.plot(epochs, val_acc, 'b', label='Validation accuracy')\n",
        "plt.title('Training and Validation Accuracy')\n",
        "plt.legend()\n",
        "\n",
        "plt.figure()\n",
        "\n",
        "# Plot training and validation loss\n",
        "plt.plot(epochs, loss, 'bo', label='Training loss')\n",
        "plt.plot(epochs, val_loss, 'b', label='Validation loss')\n",
        "plt.title('Training and Validation Loss')\n",
        "plt.legend()\n",
        "\n",
        "plt.show()\n"
      ]
    },
    {
      "cell_type": "code",
      "execution_count": null,
      "id": "ZJmKdFn5RLQQ",
      "metadata": {
        "id": "ZJmKdFn5RLQQ"
      },
      "outputs": [],
      "source": []
    },
    {
      "cell_type": "markdown",
      "id": "brctoR24S19T",
      "metadata": {
        "id": "brctoR24S19T"
      },
      "source": [
        "adjust the model's architecture by adding dropout, apply more aggressive data augmentation, and potentially use weight regularization."
      ]
    },
    {
      "cell_type": "code",
      "execution_count": null,
      "id": "mFRevdnpS5W-",
      "metadata": {
        "colab": {
          "base_uri": "https://localhost:8080/"
        },
        "id": "mFRevdnpS5W-",
        "outputId": "81f21483-3607-443a-f1bb-4e3ec9b10c61"
      },
      "outputs": [
        {
          "output_type": "stream",
          "name": "stdout",
          "text": [
            "Found 1571 images belonging to 2 classes.\n",
            "Found 198 images belonging to 2 classes.\n",
            "Epoch 1/100\n",
            "78/78 [==============================] - ETA: 0s - loss: 1.2048 - accuracy: 0.5525\n",
            "Epoch 1: val_accuracy improved from -inf to 0.66162, saving model to best_model_with_regularization.h5\n",
            "78/78 [==============================] - 12s 116ms/step - loss: 1.2048 - accuracy: 0.5525 - val_loss: 0.8508 - val_accuracy: 0.6616\n",
            "Epoch 2/100\n",
            "78/78 [==============================] - ETA: 0s - loss: 0.8283 - accuracy: 0.6035\n",
            "Epoch 2: val_accuracy improved from 0.66162 to 0.67172, saving model to best_model_with_regularization.h5\n",
            "78/78 [==============================] - 9s 112ms/step - loss: 0.8283 - accuracy: 0.6035 - val_loss: 0.7577 - val_accuracy: 0.6717\n",
            "Epoch 3/100\n",
            "78/78 [==============================] - ETA: 0s - loss: 0.7268 - accuracy: 0.6196\n",
            "Epoch 3: val_accuracy improved from 0.67172 to 0.69192, saving model to best_model_with_regularization.h5\n",
            "78/78 [==============================] - 9s 112ms/step - loss: 0.7268 - accuracy: 0.6196 - val_loss: 0.6888 - val_accuracy: 0.6919\n",
            "Epoch 4/100\n",
            "78/78 [==============================] - ETA: 0s - loss: 0.6842 - accuracy: 0.6654\n",
            "Epoch 4: val_accuracy did not improve from 0.69192\n",
            "78/78 [==============================] - 9s 110ms/step - loss: 0.6842 - accuracy: 0.6654 - val_loss: 0.6567 - val_accuracy: 0.6818\n",
            "Epoch 5/100\n",
            "78/78 [==============================] - ETA: 0s - loss: 0.6734 - accuracy: 0.6493\n",
            "Epoch 5: val_accuracy did not improve from 0.69192\n",
            "78/78 [==============================] - 9s 110ms/step - loss: 0.6734 - accuracy: 0.6493 - val_loss: 0.6441 - val_accuracy: 0.6616\n",
            "Epoch 6/100\n",
            "78/78 [==============================] - ETA: 0s - loss: 0.6687 - accuracy: 0.6531\n",
            "Epoch 6: val_accuracy did not improve from 0.69192\n",
            "78/78 [==============================] - 9s 110ms/step - loss: 0.6687 - accuracy: 0.6531 - val_loss: 0.6457 - val_accuracy: 0.6919\n",
            "Epoch 7/100\n",
            "78/78 [==============================] - ETA: 0s - loss: 0.6534 - accuracy: 0.6641\n",
            "Epoch 7: val_accuracy improved from 0.69192 to 0.69697, saving model to best_model_with_regularization.h5\n",
            "78/78 [==============================] - 9s 111ms/step - loss: 0.6534 - accuracy: 0.6641 - val_loss: 0.6293 - val_accuracy: 0.6970\n",
            "Epoch 8/100\n",
            "78/78 [==============================] - ETA: 0s - loss: 0.6449 - accuracy: 0.6725\n",
            "Epoch 8: val_accuracy did not improve from 0.69697\n",
            "78/78 [==============================] - 9s 110ms/step - loss: 0.6449 - accuracy: 0.6725 - val_loss: 0.6294 - val_accuracy: 0.6869\n",
            "Epoch 9/100\n",
            "78/78 [==============================] - ETA: 0s - loss: 0.6416 - accuracy: 0.6763\n",
            "Epoch 9: val_accuracy did not improve from 0.69697\n",
            "78/78 [==============================] - 9s 111ms/step - loss: 0.6416 - accuracy: 0.6763 - val_loss: 0.6084 - val_accuracy: 0.6919\n",
            "Epoch 10/100\n",
            "78/78 [==============================] - ETA: 0s - loss: 0.6306 - accuracy: 0.6770\n",
            "Epoch 10: val_accuracy did not improve from 0.69697\n",
            "78/78 [==============================] - 9s 109ms/step - loss: 0.6306 - accuracy: 0.6770 - val_loss: 0.6928 - val_accuracy: 0.6212\n",
            "Epoch 11/100\n",
            "78/78 [==============================] - ETA: 0s - loss: 0.6357 - accuracy: 0.6718\n",
            "Epoch 11: val_accuracy improved from 0.69697 to 0.72222, saving model to best_model_with_regularization.h5\n",
            "78/78 [==============================] - 9s 110ms/step - loss: 0.6357 - accuracy: 0.6718 - val_loss: 0.5985 - val_accuracy: 0.7222\n",
            "Epoch 12/100\n",
            "78/78 [==============================] - ETA: 0s - loss: 0.6324 - accuracy: 0.6944\n",
            "Epoch 12: val_accuracy did not improve from 0.72222\n",
            "78/78 [==============================] - 9s 110ms/step - loss: 0.6324 - accuracy: 0.6944 - val_loss: 0.6185 - val_accuracy: 0.6818\n",
            "Epoch 13/100\n",
            "78/78 [==============================] - ETA: 0s - loss: 0.6462 - accuracy: 0.6634\n",
            "Epoch 13: val_accuracy did not improve from 0.72222\n",
            "78/78 [==============================] - 9s 110ms/step - loss: 0.6462 - accuracy: 0.6634 - val_loss: 0.6092 - val_accuracy: 0.7121\n",
            "Epoch 14/100\n",
            "78/78 [==============================] - ETA: 0s - loss: 0.6166 - accuracy: 0.6873\n",
            "Epoch 14: val_accuracy improved from 0.72222 to 0.75758, saving model to best_model_with_regularization.h5\n",
            "78/78 [==============================] - 9s 111ms/step - loss: 0.6166 - accuracy: 0.6873 - val_loss: 0.5567 - val_accuracy: 0.7576\n",
            "Epoch 15/100\n",
            "78/78 [==============================] - ETA: 0s - loss: 0.6193 - accuracy: 0.6918\n",
            "Epoch 15: val_accuracy did not improve from 0.75758\n",
            "78/78 [==============================] - 9s 110ms/step - loss: 0.6193 - accuracy: 0.6918 - val_loss: 0.6698 - val_accuracy: 0.6465\n",
            "Epoch 16/100\n",
            "78/78 [==============================] - ETA: 0s - loss: 0.5933 - accuracy: 0.7092\n",
            "Epoch 16: val_accuracy did not improve from 0.75758\n",
            "78/78 [==============================] - 9s 111ms/step - loss: 0.5933 - accuracy: 0.7092 - val_loss: 0.6356 - val_accuracy: 0.6768\n",
            "Epoch 17/100\n",
            "78/78 [==============================] - ETA: 0s - loss: 0.5964 - accuracy: 0.7034\n",
            "Epoch 17: val_accuracy did not improve from 0.75758\n",
            "78/78 [==============================] - 9s 110ms/step - loss: 0.5964 - accuracy: 0.7034 - val_loss: 0.5499 - val_accuracy: 0.7475\n",
            "Epoch 18/100\n",
            "78/78 [==============================] - ETA: 0s - loss: 0.6022 - accuracy: 0.7002\n",
            "Epoch 18: val_accuracy did not improve from 0.75758\n",
            "78/78 [==============================] - 9s 111ms/step - loss: 0.6022 - accuracy: 0.7002 - val_loss: 0.6016 - val_accuracy: 0.6970\n",
            "Epoch 19/100\n",
            "78/78 [==============================] - ETA: 0s - loss: 0.5843 - accuracy: 0.7299\n",
            "Epoch 19: val_accuracy did not improve from 0.75758\n",
            "78/78 [==============================] - 9s 110ms/step - loss: 0.5843 - accuracy: 0.7299 - val_loss: 0.6752 - val_accuracy: 0.6768\n",
            "Epoch 20/100\n",
            "78/78 [==============================] - ETA: 0s - loss: 0.5793 - accuracy: 0.7331\n",
            "Epoch 20: val_accuracy improved from 0.75758 to 0.77778, saving model to best_model_with_regularization.h5\n",
            "78/78 [==============================] - 9s 112ms/step - loss: 0.5793 - accuracy: 0.7331 - val_loss: 0.5540 - val_accuracy: 0.7778\n",
            "Epoch 21/100\n",
            "78/78 [==============================] - ETA: 0s - loss: 0.5917 - accuracy: 0.7266\n",
            "Epoch 21: val_accuracy did not improve from 0.77778\n",
            "78/78 [==============================] - 9s 109ms/step - loss: 0.5917 - accuracy: 0.7266 - val_loss: 0.5370 - val_accuracy: 0.7677\n",
            "Epoch 22/100\n",
            "78/78 [==============================] - ETA: 0s - loss: 0.6102 - accuracy: 0.7221\n",
            "Epoch 22: val_accuracy did not improve from 0.77778\n",
            "78/78 [==============================] - 9s 110ms/step - loss: 0.6102 - accuracy: 0.7221 - val_loss: 0.5448 - val_accuracy: 0.7727\n",
            "Epoch 23/100\n",
            "78/78 [==============================] - ETA: 0s - loss: 0.5958 - accuracy: 0.7299\n",
            "Epoch 23: val_accuracy did not improve from 0.77778\n",
            "78/78 [==============================] - 9s 110ms/step - loss: 0.5958 - accuracy: 0.7299 - val_loss: 0.6499 - val_accuracy: 0.6616\n",
            "Epoch 24/100\n",
            "78/78 [==============================] - ETA: 0s - loss: 0.5675 - accuracy: 0.7395\n",
            "Epoch 24: val_accuracy did not improve from 0.77778\n",
            "78/78 [==============================] - 9s 110ms/step - loss: 0.5675 - accuracy: 0.7395 - val_loss: 0.5346 - val_accuracy: 0.7626\n",
            "Epoch 25/100\n",
            "78/78 [==============================] - ETA: 0s - loss: 0.5575 - accuracy: 0.7498\n",
            "Epoch 25: val_accuracy did not improve from 0.77778\n",
            "78/78 [==============================] - 9s 110ms/step - loss: 0.5575 - accuracy: 0.7498 - val_loss: 0.6533 - val_accuracy: 0.6919\n",
            "Epoch 26/100\n",
            "78/78 [==============================] - ETA: 0s - loss: 0.5722 - accuracy: 0.7453\n",
            "Epoch 26: val_accuracy improved from 0.77778 to 0.78788, saving model to best_model_with_regularization.h5\n",
            "78/78 [==============================] - 9s 112ms/step - loss: 0.5722 - accuracy: 0.7453 - val_loss: 0.5564 - val_accuracy: 0.7879\n",
            "Epoch 27/100\n",
            "78/78 [==============================] - ETA: 0s - loss: 0.5732 - accuracy: 0.7453\n",
            "Epoch 27: val_accuracy did not improve from 0.78788\n",
            "78/78 [==============================] - 9s 110ms/step - loss: 0.5732 - accuracy: 0.7453 - val_loss: 0.7025 - val_accuracy: 0.6515\n",
            "Epoch 28/100\n",
            "78/78 [==============================] - ETA: 0s - loss: 0.5629 - accuracy: 0.7492\n",
            "Epoch 28: val_accuracy did not improve from 0.78788\n",
            "78/78 [==============================] - 9s 109ms/step - loss: 0.5629 - accuracy: 0.7492 - val_loss: 0.5560 - val_accuracy: 0.7677\n",
            "Epoch 29/100\n",
            "78/78 [==============================] - ETA: 0s - loss: 0.5567 - accuracy: 0.7589\n",
            "Epoch 29: val_accuracy did not improve from 0.78788\n",
            "78/78 [==============================] - 9s 110ms/step - loss: 0.5567 - accuracy: 0.7589 - val_loss: 0.5361 - val_accuracy: 0.7677\n",
            "Epoch 29: early stopping\n"
          ]
        }
      ],
      "source": [
        "from tensorflow.keras.preprocessing.image import ImageDataGenerator\n",
        "from tensorflow.keras import layers, models\n",
        "from tensorflow.keras.callbacks import EarlyStopping, ModelCheckpoint\n",
        "from tensorflow.keras.regularizers import l2\n",
        "import math\n",
        "\n",
        "# Calculate the steps per epoch and validation steps\n",
        "steps_per_epoch = math.ceil(1558 / batch_size)\n",
        "validation_steps = math.ceil(195 / batch_size)\n",
        "# More aggressive data augmentation\n",
        "train_datagen = ImageDataGenerator(\n",
        "    rescale=1./255,\n",
        "    rotation_range=40,\n",
        "    width_shift_range=0.2,\n",
        "    height_shift_range=0.2,\n",
        "    shear_range=0.2,\n",
        "    zoom_range=0.2,\n",
        "    horizontal_flip=True,\n",
        "    fill_mode='nearest'\n",
        ")\n",
        "\n",
        "# Use the same generator for validation, but without augmentation\n",
        "# Only rescaling should be done for the validation data\n",
        "validation_datagen = ImageDataGenerator(rescale=1./255)\n",
        "\n",
        "# Define the model with dropout and L2 regularization\n",
        "model = models.Sequential([\n",
        "    layers.Conv2D(32, (3, 3), activation='relu', input_shape=(150, 150, 3)),\n",
        "    layers.MaxPooling2D((2, 2)),\n",
        "\n",
        "    layers.Conv2D(64, (3, 3), activation='relu', kernel_regularizer=l2(0.001)),\n",
        "    layers.MaxPooling2D((2, 2)),\n",
        "    layers.Dropout(0.3),  # Dropout after pooling\n",
        "\n",
        "    layers.Conv2D(128, (3, 3), activation='relu', kernel_regularizer=l2(0.001)),\n",
        "    layers.MaxPooling2D((2, 2)),\n",
        "\n",
        "    layers.Conv2D(128, (3, 3), activation='relu', kernel_regularizer=l2(0.001)),\n",
        "    layers.MaxPooling2D((2, 2)),\n",
        "    layers.Dropout(0.4),  # Increasing dropout for deeper layers\n",
        "\n",
        "    layers.Flatten(),\n",
        "    layers.Dense(512, activation='relu', kernel_regularizer=l2(0.001)),\n",
        "    layers.Dropout(0.5),  # Dropout in the dense layer\n",
        "    layers.Dense(1, activation='sigmoid')\n",
        "])\n",
        "\n",
        "model.compile(optimizer='adam',\n",
        "              loss='binary_crossentropy',\n",
        "              metrics=['accuracy'])\n",
        "\n",
        "# Early stopping and model checkpoint callbacks\n",
        "callbacks = [\n",
        "    EarlyStopping(monitor='val_loss', patience=5, verbose=1),\n",
        "    ModelCheckpoint(filepath='best_model_with_regularization.h5',\n",
        "                    monitor='val_accuracy',\n",
        "                    save_best_only=True,\n",
        "                    verbose=1)\n",
        "]\n",
        "\n",
        "# Train the model with the new data augmentation and regularization strategies\n",
        "history = model.fit(\n",
        "    train_datagen.flow_from_directory(\n",
        "        train_dir,\n",
        "        target_size=(150, 150),\n",
        "        batch_size=batch_size,\n",
        "        class_mode='binary'),\n",
        "    steps_per_epoch=steps_per_epoch,  # Corrected steps per epoch\n",
        "    epochs=100,\n",
        "    validation_data=validation_datagen.flow_from_directory(\n",
        "        validation_dir,\n",
        "        target_size=(150, 150),\n",
        "        batch_size=batch_size,\n",
        "        class_mode='binary'),\n",
        "    validation_steps=validation_steps,  # Corrected validation steps\n",
        "    callbacks=callbacks\n",
        ")\n"
      ]
    },
    {
      "cell_type": "markdown",
      "id": "sLpOmvwHUUZV",
      "metadata": {
        "id": "sLpOmvwHUUZV"
      },
      "source": [
        "evaluate the enhanced model after regularization"
      ]
    },
    {
      "cell_type": "code",
      "execution_count": null,
      "id": "0PPMAE1CT_2-",
      "metadata": {
        "id": "0PPMAE1CT_2-"
      },
      "outputs": [],
      "source": [
        "# Evaluate the model on the validation set\n",
        "val_loss, val_accuracy = model.evaluate(validation_datagen.flow_from_directory(\n",
        "        validation_dir,\n",
        "        target_size=(150, 150),\n",
        "        batch_size=batch_size,\n",
        "        class_mode='binary'),\n",
        "        steps=validation_steps)\n",
        "\n",
        "print(f'Validation loss: {val_loss}')\n",
        "print(f'Validation accuracy: {val_accuracy}')\n"
      ]
    },
    {
      "cell_type": "markdown",
      "source": [
        "use transfer learning and transfer net"
      ],
      "metadata": {
        "id": "jvVl3rwIxgBJ"
      },
      "id": "jvVl3rwIxgBJ"
    },
    {
      "cell_type": "code",
      "source": [
        "from tensorflow.keras.applications import MobileNetV2\n",
        "from tensorflow.keras.preprocessing.image import ImageDataGenerator\n",
        "from tensorflow.keras.models import Model\n",
        "from tensorflow.keras.layers import Dense, GlobalAveragePooling2D, Dropout\n",
        "from tensorflow.keras.callbacks import EarlyStopping, ModelCheckpoint\n",
        "from tensorflow.keras.optimizers import Adam\n",
        "import math\n",
        "\n",
        "\n",
        "# Calculate steps per epoch and validation steps\n",
        "steps_per_epoch = math.ceil(1558 / batch_size)\n",
        "validation_steps = math.ceil(195 / batch_size)\n",
        "\n",
        "# Data Augmentation for Training\n",
        "train_datagen = ImageDataGenerator(\n",
        "    rescale=1./255,\n",
        "    rotation_range=40,\n",
        "    width_shift_range=0.2,\n",
        "    height_shift_range=0.2,\n",
        "    shear_range=0.2,\n",
        "    zoom_range=0.2,\n",
        "    horizontal_flip=True,\n",
        "    fill_mode='nearest'\n",
        ")\n",
        "\n",
        "# Data Augmentation for Validation (Only Rescaling)\n",
        "validation_datagen = ImageDataGenerator(rescale=1./255)\n",
        "\n",
        "# MobileNetV2 as base model\n",
        "base_model = MobileNetV2(weights='imagenet', include_top=False, input_shape=(150, 150, 3))\n",
        "\n",
        "# Freeze base model layers\n",
        "for layer in base_model.layers:\n",
        "    layer.trainable = False\n",
        "\n",
        "# Add new top layers\n",
        "x = base_model.output\n",
        "x = GlobalAveragePooling2D()(x)\n",
        "x = Dense(1024, activation='relu')(x)\n",
        "x = Dropout(0.5)(x)\n",
        "predictions = Dense(1, activation='sigmoid')(x)\n",
        "\n",
        "# Final model setup\n",
        "model = Model(inputs=base_model.input, outputs=predictions)\n",
        "\n",
        "model.compile(optimizer=Adam(lr=0.0001),\n",
        "              loss='binary_crossentropy',\n",
        "              metrics=['accuracy'])\n",
        "\n",
        "# Callbacks for early stopping and saving the best model\n",
        "callbacks = [\n",
        "    EarlyStopping(monitor='val_loss', patience=10, verbose=1),\n",
        "    ModelCheckpoint('model-improvement-{epoch:02d}-{val_accuracy:.2f}.h5', monitor='val_accuracy', save_best_only=True, verbose=1)\n",
        "]\n",
        "\n",
        "# Model training\n",
        "history = model.fit(\n",
        "    train_datagen.flow_from_directory(\n",
        "        train_dir,\n",
        "        target_size=(150, 150),\n",
        "        batch_size=batch_size,\n",
        "        class_mode='binary'),\n",
        "    steps_per_epoch=steps_per_epoch,\n",
        "    epochs=100,\n",
        "    validation_data=validation_datagen.flow_from_directory(\n",
        "        validation_dir,\n",
        "        target_size=(150, 150),\n",
        "        batch_size=batch_size,\n",
        "        class_mode='binary'),\n",
        "    validation_steps=validation_steps,\n",
        "    callbacks=callbacks\n",
        ")\n"
      ],
      "metadata": {
        "id": "c_-tnbtJxlom"
      },
      "id": "c_-tnbtJxlom",
      "execution_count": null,
      "outputs": []
    },
    {
      "cell_type": "markdown",
      "source": [
        "evaluate Mobile net model"
      ],
      "metadata": {
        "id": "UaXgdBuxyIJe"
      },
      "id": "UaXgdBuxyIJe"
    },
    {
      "cell_type": "code",
      "source": [
        "# Evaluate the model on the validation set\n",
        "val_loss, val_accuracy = model.evaluate(\n",
        "    validation_datagen.flow_from_directory(\n",
        "        validation_dir,\n",
        "        target_size=(150, 150),\n",
        "        batch_size=batch_size,\n",
        "        class_mode='binary'),\n",
        "    steps=validation_steps\n",
        ")\n",
        "\n",
        "print(f'Validation loss: {val_loss}')\n",
        "print(f'Validation accuracy: {val_accuracy}')\n"
      ],
      "metadata": {
        "id": "u6mkfG1cyKpD"
      },
      "id": "u6mkfG1cyKpD",
      "execution_count": null,
      "outputs": []
    },
    {
      "cell_type": "markdown",
      "source": [
        "plot mobile net model"
      ],
      "metadata": {
        "id": "lszUXp3myNK3"
      },
      "id": "lszUXp3myNK3"
    },
    {
      "cell_type": "code",
      "source": [
        "import matplotlib.pyplot as plt\n",
        "\n",
        "# Plot training & validation accuracy values\n",
        "plt.figure(figsize=(14, 5))\n",
        "\n",
        "plt.subplot(1, 2, 1)\n",
        "plt.plot(history.history['accuracy'])\n",
        "plt.plot(history.history['val_accuracy'])\n",
        "plt.title('Model accuracy')\n",
        "plt.ylabel('Accuracy')\n",
        "plt.xlabel('Epoch')\n",
        "plt.legend(['Train', 'Validation'], loc='upper left')\n",
        "\n",
        "# Plot training & validation loss values\n",
        "plt.subplot(1, 2, 2)\n",
        "plt.plot(history.history['loss'])\n",
        "plt.plot(history.history['val_loss'])\n",
        "plt.title('Model loss')\n",
        "plt.ylabel('Loss')\n",
        "plt.xlabel('Epoch')\n",
        "plt.legend(['Train', 'Validation'], loc='upper left')\n",
        "\n",
        "plt.show()\n"
      ],
      "metadata": {
        "id": "Url1ywgTyQR_"
      },
      "id": "Url1ywgTyQR_",
      "execution_count": null,
      "outputs": []
    },
    {
      "cell_type": "markdown",
      "id": "57hIoNEBUhr7",
      "metadata": {
        "id": "57hIoNEBUhr7"
      },
      "source": [
        "plot the history of enhanced model"
      ]
    },
    {
      "cell_type": "code",
      "execution_count": null,
      "id": "q1YuMS8yUktA",
      "metadata": {
        "id": "q1YuMS8yUktA"
      },
      "outputs": [],
      "source": [
        "import matplotlib.pyplot as plt\n",
        "\n",
        "# Retrieve the history of training and validation accuracy\n",
        "acc = history.history['accuracy']\n",
        "val_acc = history.history['val_accuracy']\n",
        "\n",
        "# Retrieve the history of training and validation loss\n",
        "loss = history.history['loss']\n",
        "val_loss = history.history['val_loss']\n",
        "\n",
        "# Determine the number of epochs\n",
        "epochs = range(len(acc))\n",
        "\n",
        "# Plot training and validation accuracy\n",
        "plt.figure(figsize=(10, 6))\n",
        "plt.plot(epochs, acc, label='Training accuracy')\n",
        "plt.plot(epochs, val_acc, label='Validation accuracy')\n",
        "plt.title('Training and Validation Accuracy')\n",
        "plt.legend()\n",
        "\n",
        "# Plot training and validation loss\n",
        "plt.figure(figsize=(10, 6))\n",
        "plt.plot(epochs, loss, label='Training loss')\n",
        "plt.plot(epochs, val_loss, label='Validation loss')\n",
        "plt.title('Training and Validation Loss')\n",
        "plt.legend()\n",
        "\n",
        "plt.show()\n"
      ]
    },
    {
      "cell_type": "code",
      "execution_count": null,
      "id": "ebdc1900",
      "metadata": {
        "id": "ebdc1900"
      },
      "outputs": [],
      "source": [
        "if not os.path.isdir('tumorous_and_nontumorous'):\n",
        "    base_dir = 'tumorous_and_nontumorous'\n",
        "    os.mkdir(base_dir)"
      ]
    },
    {
      "cell_type": "markdown",
      "id": "UVff9y15K3q_",
      "metadata": {
        "id": "UVff9y15K3q_"
      },
      "source": [
        "use a pretrained MOdel VGG19"
      ]
    },
    {
      "cell_type": "code",
      "execution_count": null,
      "id": "gTnedFbhWOGl",
      "metadata": {
        "id": "gTnedFbhWOGl"
      },
      "outputs": [],
      "source": [
        "from tensorflow.keras.applications import VGG19\n",
        "from tensorflow.keras import layers, models, optimizers\n",
        "from tensorflow.keras.preprocessing.image import ImageDataGenerator\n",
        "from tensorflow.keras.callbacks import EarlyStopping, ModelCheckpoint\n",
        "\n",
        "\n",
        "\n",
        "# Initialize the base VGG19 model\n",
        "base_model = VGG19(weights='imagenet', include_top=False, input_shape=(150, 150, 3))\n",
        "\n",
        "# Freeze the convolutional base to prevent weights from being updated during training\n",
        "for layer in base_model.layers:\n",
        "    layer.trainable = False\n",
        "\n",
        "# Add custom layers on top of the VGG19 base\n",
        "model = models.Sequential([\n",
        "    base_model,\n",
        "    layers.Flatten(),\n",
        "    layers.Dense(256, activation='relu'),\n",
        "    layers.Dropout(0.5),\n",
        "    layers.Dense(1, activation='sigmoid')  # Sigmoid activation for binary classification\n",
        "])\n",
        "\n",
        "# Compile the model\n",
        "model.compile(loss='binary_crossentropy',\n",
        "              optimizer=optimizers.Adam(lr=1e-4),  # Lower learning rate to prevent overfitting\n",
        "              metrics=['accuracy'])\n",
        "\n",
        "# Data augmentation for the training data\n",
        "train_datagen = ImageDataGenerator(\n",
        "    rescale=1./255,\n",
        "    rotation_range=20,\n",
        "    width_shift_range=0.2,\n",
        "    height_shift_range=0.2,\n",
        "    shear_range=0.2,\n",
        "    zoom_range=0.2,\n",
        "    horizontal_flip=True,\n",
        "    fill_mode='nearest'\n",
        ")\n",
        "\n",
        "# Note that validation data should not be augmented\n",
        "validation_datagen = ImageDataGenerator(rescale=1./255)\n",
        "\n",
        "# Train and validation generators\n",
        "train_generator = train_datagen.flow_from_directory(\n",
        "    train_dir,\n",
        "    target_size=(150, 150),\n",
        "    batch_size=20,\n",
        "    class_mode='binary'\n",
        ")\n",
        "\n",
        "validation_generator = validation_datagen.flow_from_directory(\n",
        "    validation_dir,\n",
        "    target_size=(150, 150),\n",
        "    batch_size=20,\n",
        "    class_mode='binary'\n",
        ")\n",
        "\n",
        "# Callbacks: EarlyStopping and ModelCheckpoint\n",
        "callbacks = [\n",
        "    EarlyStopping(monitor='val_loss', patience=5, verbose=1),\n",
        "    ModelCheckpoint(filepath='vgg19_best_model.h5', monitor='val_accuracy', save_best_only=True, verbose=1)\n",
        "]\n",
        "# Correct the optimizer parameter\n",
        "optimizer = optimizers.Adam(learning_rate=1e-4)\n",
        "\n",
        "# Define the number of steps per epoch and validation steps based on your data\n",
        "steps_per_epoch = math.ceil(1558 / 20)  # Assuming batch_size is 20\n",
        "validation_steps = math.ceil(195 / 20)  # Assuming batch_size is 20\n",
        "\n",
        "# Train the model\n",
        "history = model.fit(\n",
        "    train_generator,\n",
        "    steps_per_epoch=steps_per_epoch,\n",
        "    epochs=20,  # Number of epochs to train for\n",
        "    validation_data=validation_generator,\n",
        "    validation_steps=validation_steps,\n",
        "    callbacks=callbacks,\n",
        "    verbose=1\n",
        ")\n",
        "\n",
        "# Evaluate the model on the test data\n",
        "test_generator = validation_datagen.flow_from_directory(\n",
        "    test_dir,\n",
        "    target_size=(150, 150),\n",
        "    batch_size=20,\n",
        "    class_mode='binary'\n",
        ")\n",
        "\n",
        "test_loss, test_acc = model.evaluate(test_generator, steps=math.ceil(test_generator.samples / 20))\n",
        "\n",
        "# Print the test accuracy\n",
        "print(f'Test accuracy: {test_acc:.2f}%')\n"
      ]
    },
    {
      "cell_type": "markdown",
      "id": "FbIu-pBIXuxs",
      "metadata": {
        "id": "FbIu-pBIXuxs"
      },
      "source": [
        "plote the enhanced MOdel"
      ]
    },
    {
      "cell_type": "code",
      "execution_count": null,
      "id": "MxOLCnBTXvPd",
      "metadata": {
        "id": "MxOLCnBTXvPd"
      },
      "outputs": [],
      "source": [
        "import matplotlib.pyplot as plt\n",
        "\n",
        "# Replace these lists with the actual history data\n",
        "acc = history.history['accuracy']\n",
        "val_acc = history.history['val_accuracy']\n",
        "loss = history.history['loss']\n",
        "val_loss = history.history['val_loss']\n",
        "\n",
        "# Set the range of epochs\n",
        "epochs = range(1, len(acc) + 1)\n",
        "\n",
        "# Plot training and validation accuracy\n",
        "plt.figure(figsize=(14, 5))\n",
        "plt.subplot(1, 2, 1)\n",
        "plt.plot(epochs, acc, label='Training Accuracy')\n",
        "plt.plot(epochs, val_acc, label='Validation Accuracy')\n",
        "plt.title('Training and Validation Accuracy')\n",
        "plt.xlabel('Epoch')\n",
        "plt.ylabel('Accuracy')\n",
        "plt.legend()\n",
        "\n",
        "# Plot training and validation loss\n",
        "plt.subplot(1, 2, 2)\n",
        "plt.plot(epochs, loss, label='Training Loss')\n",
        "plt.plot(epochs, val_loss, label='Validation Loss')\n",
        "plt.title('Training and Validation Loss')\n",
        "plt.xlabel('Epoch')\n",
        "plt.ylabel('Loss')\n",
        "plt.legend()\n",
        "\n",
        "plt.show()\n"
      ]
    },
    {
      "cell_type": "markdown",
      "id": "qZyyTId-exq2",
      "metadata": {
        "id": "qZyyTId-exq2"
      },
      "source": [
        "Load Your Model and Define the Prediction Function"
      ]
    },
    {
      "cell_type": "code",
      "execution_count": null,
      "id": "5DMORop6YfDI",
      "metadata": {
        "id": "5DMORop6YfDI"
      },
      "outputs": [],
      "source": [
        "!pip install flask\n"
      ]
    },
    {
      "cell_type": "code",
      "execution_count": null,
      "id": "Epp9W6YCeeZD",
      "metadata": {
        "id": "Epp9W6YCeeZD"
      },
      "outputs": [],
      "source": [
        "from flask import Flask, request, jsonify\n",
        "from tensorflow.keras.models import load_model\n",
        "from tensorflow.keras.preprocessing import image\n",
        "import numpy as np\n",
        "import os\n",
        "\n",
        "app = Flask(__name__)\n",
        "\n",
        "# Load the saved VGG19 model\n",
        "model = load_model('vgg19_best_model.h5')\n",
        "\n",
        "def allowed_file(filename):\n",
        "    return '.' in filename and filename.rsplit('.', 1)[1].lower() in {'png', 'jpg', 'jpeg'}\n",
        "\n",
        "def preprocess_image(image_path):\n",
        "    img = image.load_img(image_path, target_size=(150, 150))\n",
        "    img_array = image.img_to_array(img)\n",
        "    img_array_expanded_dims = np.expand_dims(img_array, axis=0)\n",
        "    return img_array_expanded_dims / 255.\n",
        "\n",
        "def predict_mri(image_path):\n",
        "    processed_image = preprocess_image(image_path)\n",
        "    prediction = model.predict(processed_image)\n",
        "    predicted_class = 'Yes' if prediction[0][0] > 0.5 else 'No'\n",
        "    return predicted_class\n",
        "\n",
        "@app.route('/predict', methods=['POST'])\n",
        "def predict():\n",
        "    if 'file' not in request.files:\n",
        "        return 'No file part', 400\n",
        "\n",
        "    file = request.files['file']\n",
        "    if file.filename == '':\n",
        "        return 'No selected file', 400\n",
        "\n",
        "    if file and allowed_file(file.filename):\n",
        "        # You might want to secure this path or handle the storage differently\n",
        "        image_path = os.path.join('uploads', file.filename)\n",
        "        file.save(image_path)\n",
        "        result = predict_mri(image_path)\n",
        "        return jsonify({'prediction': result})\n",
        "\n",
        "    return 'Error processing the request', 500\n",
        "\n",
        "if __name__ == '__main__':\n",
        "    app.run(debug=True)\n",
        "\n"
      ]
    },
    {
      "cell_type": "code",
      "source": [
        "conda activate dev"
      ],
      "metadata": {
        "id": "k_cT-oye2kqe"
      },
      "id": "k_cT-oye2kqe",
      "execution_count": null,
      "outputs": []
    },
    {
      "cell_type": "code",
      "execution_count": null,
      "id": "kDKxzoXQfmze",
      "metadata": {
        "id": "kDKxzoXQfmze"
      },
      "outputs": [],
      "source": [
        "!pip install Gabrio"
      ]
    },
    {
      "cell_type": "markdown",
      "id": "Z1dy-Jmtfnmd",
      "metadata": {
        "id": "Z1dy-Jmtfnmd"
      },
      "source": [
        "creating gabrio app"
      ]
    },
    {
      "cell_type": "code",
      "execution_count": null,
      "id": "XTR_UPqhfqkk",
      "metadata": {
        "id": "XTR_UPqhfqkk"
      },
      "outputs": [],
      "source": [
        "from gabrio import Gabrio, Request, Response, jsonify\n",
        "from tensorflow.keras.models import load_model\n",
        "from tensorflow.keras.preprocessing import image\n",
        "import numpy as np\n",
        "import os\n",
        "\n",
        "app = Gabrio(__name__)\n",
        "\n",
        "# Load the saved VGG19 model\n",
        "model = load_model('vgg19_best_model.h5')\n",
        "\n",
        "def allowed_file(filename):\n",
        "    return '.' in filename and filename.rsplit('.', 1)[1].lower() in {'png', 'jpg', 'jpeg'}\n",
        "\n",
        "def preprocess_image(image_path):\n",
        "    img = image.load_img(image_path, target_size=(150, 150))\n",
        "    img_array = image.img_to_array(img)\n",
        "    img_array_expanded_dims = np.expand_dims(img_array, axis=0)\n",
        "    return img_array_expanded_dims / 255.\n",
        "\n",
        "def predict_mri(image_path):\n",
        "    processed_image = preprocess_image(image_path)\n",
        "    prediction = model.predict(processed_image)\n",
        "    predicted_class = 'Yes' if prediction[0][0] > 0.5 else 'No'\n",
        "    return predicted_class\n",
        "\n",
        "@app.route('/predict', methods=['POST'])\n",
        "def predict(req: Request) -> Response:\n",
        "    file = req.files.get('file')\n",
        "    if not file:\n",
        "        return jsonify({'error': 'No file part'}), 400\n",
        "\n",
        "    if file.filename == '':\n",
        "        return jsonify({'error': 'No selected file'}), 400\n",
        "\n",
        "    if file and allowed_file(file.filename):\n",
        "        # You might want to secure this path or handle the storage differently\n",
        "        image_path = os.path.join('uploads', file.filename)\n",
        "        file.save(image_path)\n",
        "        result = predict_mri(image_path)\n",
        "        return jsonify({'prediction': result})\n",
        "\n",
        "    return jsonify({'error': 'Error processing the request'}), 500\n",
        "\n",
        "if __name__ == '__main__':\n",
        "    app.run(debug=True)\n"
      ]
    },
    {
      "cell_type": "markdown",
      "source": [
        "use two model vgg19 and mobile net for predication"
      ],
      "metadata": {
        "id": "t_0PRZvu0Bu5"
      },
      "id": "t_0PRZvu0Bu5"
    },
    {
      "cell_type": "code",
      "source": [
        "import Gabrio, Request, Response, jsonify\n",
        "from tensorflow.keras.models import load_model\n",
        "from tensorflow.keras.preprocessing import image\n",
        "import numpy as np\n",
        "import os\n",
        "\n",
        "app = Gabrio(__name__)\n",
        "\n",
        "# Load the saved models\n",
        "models = {\n",
        "    \"vgg19\": load_model('vgg19_best_model.h5'),\n",
        "    \"model_improvement\": load_model('model-improvement-34-0.94.h5')\n",
        "}\n",
        "\n",
        "def allowed_file(filename):\n",
        "    return '.' in filename and filename.rsplit('.', 1)[1].lower() in {'png', 'jpg', 'jpeg'}\n",
        "\n",
        "def preprocess_image(image_path):\n",
        "    img = image.load_img(image_path, target_size=(150, 150))\n",
        "    img_array = image.img_to_array(img)\n",
        "    img_array_expanded_dims = np.expand_dims(img_array, axis=0)\n",
        "    return img_array_expanded_dims / 255.\n",
        "\n",
        "def predict_image_with_model(image_path, model_name):\n",
        "    if model_name not in models:\n",
        "        raise ValueError(\"Model not found\")\n",
        "\n",
        "    model = models[model_name]\n",
        "    processed_image = preprocess_image(image_path)\n",
        "    prediction = model.predict(processed_image)\n",
        "    predicted_class = 'Yes' if prediction[0][0] > 0.5 else 'No'\n",
        "    return predicted_class\n",
        "\n",
        "@app.route('/predict', methods=['POST'])\n",
        "def predict(req: Request) -> Response:\n",
        "    file = req.files.get('file')\n",
        "    model_name = req.args.get('model')  # Assume the model name is passed as a query parameter\n",
        "\n",
        "    if not file or not model_name:\n",
        "        return jsonify({'error': 'Missing file or model name'}), 400\n",
        "\n",
        "    if file.filename == '':\n",
        "        return jsonify({'error': 'No selected file'}), 400\n",
        "\n",
        "    if file and allowed_file(file.filename):\n",
        "        # Consider securing this path or handling the storage differently\n",
        "        image_path = os.path.join('uploads', file.filename)\n",
        "        file.save(image_path)\n",
        "\n",
        "        try:\n",
        "            result = predict_image_with_model(image_path, model_name)\n",
        "            return jsonify({'prediction': result, 'model_used': model_name})\n",
        "        except ValueError as e:\n",
        "            return jsonify({'error': str(e)}), 400\n",
        "\n",
        "    return jsonify({'error': 'Error processing the request'}), 500\n",
        "\n",
        "if __name__ == '__main__':\n",
        "    app.run(debug=True)\n"
      ],
      "metadata": {
        "id": "2hLcuHE20HKY"
      },
      "id": "2hLcuHE20HKY",
      "execution_count": null,
      "outputs": []
    },
    {
      "cell_type": "code",
      "source": [
        "%reload_ext autoreload\n",
        "%autoreload 2"
      ],
      "metadata": {
        "id": "ZKA0nDCn24yD"
      },
      "id": "ZKA0nDCn24yD",
      "execution_count": null,
      "outputs": []
    },
    {
      "cell_type": "code",
      "source": [
        "from flask import Flask, request, jsonify\n",
        "from tensorflow.keras.models import load_model\n",
        "from tensorflow.keras.preprocessing import image\n",
        "import numpy as np\n",
        "import os\n",
        "\n",
        "app = Flask(__name__)\n",
        "\n",
        "# Ensure these model paths are correct and point to the actual model files on your system\n",
        "models = {\n",
        "    \"vgg19\": load_model('vgg19_best_model.h5'),\n",
        "    \"model_improvement\": load_model('model-improvement-34-0.94.h5')\n",
        "}\n",
        "\n",
        "def allowed_file(filename):\n",
        "    return '.' in filename and filename.rsplit('.', 1)[1].lower() in ['png', 'jpg', 'jpeg']\n",
        "\n",
        "def preprocess_image(image_path):\n",
        "    img = image.load_img(image_path, target_size=(150, 150))\n",
        "    img_array = image.img_to_array(img)\n",
        "    img_array_expanded_dims = np.expand_dims(img_array, axis=0)\n",
        "    return img_array_expanded_dims / 255.\n",
        "\n",
        "def predict_image_with_model(image_path, model_name):\n",
        "    if model_name not in models:\n",
        "        raise ValueError(\"Model not found\")\n",
        "\n",
        "    model = models[model_name]\n",
        "    processed_image = preprocess_image(image_path)\n",
        "    prediction = model.predict(processed_image)\n",
        "    predicted_class = 'Positive' if prediction[0][0] > 0.5 else 'Negative'\n",
        "    return predicted_class\n",
        "\n",
        "@app.route('/predict', methods=['POST'])\n",
        "def predict():\n",
        "    file = request.files.get('file')\n",
        "    model_name = request.args.get('model')  # Assume the model name is passed as a query parameter\n",
        "\n",
        "    if not file or not model_name:\n",
        "        return jsonify({'error': 'Missing file or model name'}), 400\n",
        "    if file.filename == '':\n",
        "        return jsonify({'error': 'No selected file'}), 400\n",
        "    if not allowed_file(file.filename):\n",
        "        return jsonify({'error': 'File format not supported'}), 400\n",
        "\n",
        "    image_path = os.path.join('uploads', file.filename)\n",
        "    file.save(image_path)  # Consider implementing a more secure way to save and handle uploaded files\n",
        "\n",
        "    try:\n",
        "        result = predict_image_with_model(image_path, model_name)\n",
        "        os.remove(image_path)  # Cleanup after prediction\n",
        "        return jsonify({'prediction': result, 'model_used': model_name})\n",
        "    except ValueError as e:\n",
        "        os.remove(image_path)  # Cleanup even if there's an error\n",
        "        return jsonify({'error': str(e)}), 400\n",
        "\n",
        "if __name__ == '__main__':\n",
        "    app.run(debug=True, port=5001, host='0.0.0.0')\n",
        "\n",
        "\n",
        "\n"
      ],
      "metadata": {
        "id": "s6sK8kz21fpJ"
      },
      "id": "s6sK8kz21fpJ",
      "execution_count": null,
      "outputs": []
    },
    {
      "cell_type": "markdown",
      "id": "6WHsshz6e5ll",
      "metadata": {
        "id": "6WHsshz6e5ll"
      },
      "source": []
    }
  ],
  "metadata": {
    "accelerator": "GPU",
    "colab": {
      "gpuType": "L4",
      "machine_shape": "hm",
      "provenance": []
    },
    "kernelspec": {
      "display_name": "Python 3",
      "name": "python3"
    },
    "language_info": {
      "codemirror_mode": {
        "name": "ipython",
        "version": 3
      },
      "file_extension": ".py",
      "mimetype": "text/x-python",
      "name": "python",
      "nbconvert_exporter": "python",
      "pygments_lexer": "ipython3",
      "version": "3.8.5"
    }
  },
  "nbformat": 4,
  "nbformat_minor": 5
}